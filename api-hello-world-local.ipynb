{
 "cells": [
  {
   "cell_type": "markdown",
   "id": "34363cc4",
   "metadata": {},
   "source": [
    "## Reading available models from LM Studio"
   ]
  },
  {
   "cell_type": "code",
   "execution_count": 104,
   "id": "35e1ffb9",
   "metadata": {},
   "outputs": [],
   "source": [
    "import requests\n",
    "from api_models import (\n",
    "    ModelList, \n",
    "    ModelInfo, \n",
    "    ChatCompletion, \n",
    "    ChatCompletionRequest,\n",
    "    ChatMessage,\n",
    "    create_chat_message,\n",
    "    create_chat_completion_request\n",
    ")"
   ]
  },
  {
   "cell_type": "code",
   "execution_count": 87,
   "id": "18bb306f",
   "metadata": {},
   "outputs": [],
   "source": [
    "base_url = \"http://169.254.83.107:1234/v1\""
   ]
  },
  {
   "cell_type": "code",
   "execution_count": 88,
   "id": "f5fc4fe3",
   "metadata": {},
   "outputs": [],
   "source": [
    "endpoint_models = f\"{base_url}/models\"\n",
    "endpoint_chat = f\"{base_url}/chat/completions\"\n",
    "endpoint_completions = f\"{base_url}/completions\"\n",
    "endpoint_embeddings = f\"{base_url}/embeddings\""
   ]
  },
  {
   "cell_type": "markdown",
   "id": "441b740b",
   "metadata": {},
   "source": [
    "### Listing models with object"
   ]
  },
  {
   "cell_type": "code",
   "execution_count": 105,
   "id": "5e8a4f80",
   "metadata": {},
   "outputs": [
    {
     "name": "stdout",
     "output_type": "stream",
     "text": [
      "Model ID: mistralai/magistral-small-2509, raw: id='mistralai/magistral-small-2509' object='model' owned_by='organization_owner' created=None permission=None\n",
      "Model ID: qwen/qwen3-coder-30b, raw: id='qwen/qwen3-coder-30b' object='model' owned_by='organization_owner' created=None permission=None\n",
      "Model ID: text-embedding-nomic-embed-text-v1.5, raw: id='text-embedding-nomic-embed-text-v1.5' object='model' owned_by='organization_owner' created=None permission=None\n",
      "Model ID: smolvlm2-2.2b-instruct, raw: id='smolvlm2-2.2b-instruct' object='model' owned_by='organization_owner' created=None permission=None\n",
      "Model ID: google/gemma-3-27b, raw: id='google/gemma-3-27b' object='model' owned_by='organization_owner' created=None permission=None\n",
      "Model ID: text-embedding-mxbai-embed-large-v1, raw: id='text-embedding-mxbai-embed-large-v1' object='model' owned_by='organization_owner' created=None permission=None\n"
     ]
    }
   ],
   "source": [
    "resp = requests.get(endpoint_models, timeout=5)\n",
    "resp.raise_for_status()   # or print(response.text) if the response isn't JSON\n",
    "models = ModelList.model_validate(resp.json())\n",
    "\n",
    "for model in models.data:\n",
    "    print(f\"Model ID: {model.id}, raw: {model}\")"
   ]
  },
  {
   "cell_type": "code",
   "execution_count": 106,
   "id": "61aa2ef9",
   "metadata": {},
   "outputs": [],
   "source": [
    "# Using the new helper functions from api_models\n",
    "messages = [\n",
    "    create_chat_message(\"system\", \"You are a helpful assistant.\"),\n",
    "    create_chat_message(\"user\", \"Reply to my hello world in a funny way.\")\n",
    "]\n",
    "\n",
    "# Create request using the Pydantic model\n",
    "chat_request = create_chat_completion_request(\n",
    "    model=\"mistralai/magistral-small-2509\",\n",
    "    messages=messages,\n",
    "    temperature=0.7,\n",
    "    stream=False\n",
    ")\n",
    "\n",
    "# Send the request\n",
    "resp = requests.post(\n",
    "    endpoint_chat, \n",
    "    json=chat_request.model_dump(exclude_none=True),  # Convert to dict, excluding None values\n",
    "    timeout=15\n",
    ")\n",
    "resp.raise_for_status()\n",
    "\n",
    "# Validate response with Pydantic model\n",
    "cc = ChatCompletion.model_validate(resp.json())"
   ]
  },
  {
   "cell_type": "code",
   "execution_count": 107,
   "id": "809dc170",
   "metadata": {},
   "outputs": [
    {
     "name": "stdout",
     "output_type": "stream",
     "text": [
      "Hello, World! It seems like we're both speaking the language of programming... or is it that you just really wanted to say hi? 😄\n"
     ]
    }
   ],
   "source": [
    "# Example access\n",
    "print(cc.choices[0].message.content)"
   ]
  }
 ],
 "metadata": {
  "kernelspec": {
   "display_name": "gen-ai",
   "language": "python",
   "name": "python3"
  },
  "language_info": {
   "codemirror_mode": {
    "name": "ipython",
    "version": 3
   },
   "file_extension": ".py",
   "mimetype": "text/x-python",
   "name": "python",
   "nbconvert_exporter": "python",
   "pygments_lexer": "ipython3",
   "version": "3.12.11"
  }
 },
 "nbformat": 4,
 "nbformat_minor": 5
}
