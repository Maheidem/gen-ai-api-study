{
 "cells": [
  {
   "cell_type": "markdown",
   "metadata": {},
   "source": [
    "# 🔧 04: Tool Calling Basics\n",
    "\n",
    "Learn how to extend your LLM's capabilities by giving it access to built-in tools for calculations, text transformations, and more."
   ]
  },
  {
   "cell_type": "markdown",
   "metadata": {},
   "source": [
    "## 📋 Learning Objectives\n",
    "\n",
    "By the end of this notebook, you will be able to:\n",
    "\n",
    "- [ ] Understand what tools are and why they're useful\n",
    "- [ ] Use the built-in `math_calculator` tool for arithmetic\n",
    "- [ ] Use the `text_transformer` tool for text manipulation\n",
    "- [ ] Use the `char_counter` tool for text analysis\n",
    "- [ ] See how tools are automatically executed by the SDK\n",
    "- [ ] Inspect tool calls in full responses\n",
    "- [ ] Combine multiple tools in a single conversation"
   ]
  },
  {
   "cell_type": "markdown",
   "metadata": {},
   "source": [
    "## 🎯 Prerequisites\n",
    "\n",
    "- Completed notebooks 02 (Basic Chat) and 03 (Conversation History)\n",
    "- Understanding of chat and conversation history\n",
    "- LM Studio running with a model that supports function calling"
   ]
  },
  {
   "cell_type": "markdown",
   "metadata": {},
   "source": [
    "## ⏱️ Estimated Time: 15 minutes"
   ]
  },
  {
   "cell_type": "markdown",
   "metadata": {},
   "source": [
    "## 1️⃣ What Are Tools?\n",
    "\n",
    "**Tools** (also called function calling) let LLMs interact with external functions. This solves key limitations:\n",
    "\n",
    "| Without Tools | With Tools |\n",
    "|---------------|------------|\n",
    "| ❌ Bad at precise math | ✅ Use calculator for exact answers |\n",
    "| ❌ Can't access real-time data | ✅ Call APIs for current information |\n",
    "| ❌ Can't modify files | ✅ Use file operations |\n",
    "| ❌ No access to external systems | ✅ Integrate with databases, services |\n",
    "\n",
    "**How it works:**\n",
    "1. You give the LLM a list of available tools\n",
    "2. The LLM decides when to use a tool\n",
    "3. The LLM generates a tool call with parameters\n",
    "4. The SDK executes the tool automatically\n",
    "5. The result goes back to the LLM\n",
    "6. The LLM incorporates it into the response"
   ]
  },
  {
   "cell_type": "markdown",
   "metadata": {},
   "source": [
    "## 2️⃣ Built-in Tool: math_calculator\n",
    "\n",
    "The `math_calculator` tool evaluates mathematical expressions safely."
   ]
  },
  {
   "cell_type": "code",
   "execution_count": null,
   "metadata": {},
   "outputs": [],
   "source": [
    "from local_llm_sdk import LocalLLMClient\n",
    "from local_llm_sdk.tools import get_builtin_tools\n",
    "\n",
    "# Create client and get built-in tools\n",
    "client = LocalLLMClient(\n",
    "    base_url=\"http://169.254.83.107:1234/v1\",\n",
    "    model=\"your-model-name\"\n",
    ")\n",
    "\n",
    "tools = get_builtin_tools()\n",
    "\n",
    "# Register tools with the client\n",
    "client.register_tools(tools)\n",
    "\n",
    "print(\"✅ Registered tools:\")\n",
    "for tool_name in client.tools.list_tools():\n",
    "    print(f\"  - {tool_name}\")"
   ]
  },
  {
   "cell_type": "markdown",
   "metadata": {},
   "source": [
    "Now let's use the calculator!"
   ]
  },
  {
   "cell_type": "code",
   "execution_count": null,
   "metadata": {},
   "outputs": [],
   "source": [
    "# Ask a math question\n",
    "response = client.chat(\"What is 127 multiplied by 893?\")\n",
    "print(response)"
   ]
  },
  {
   "cell_type": "markdown",
   "metadata": {},
   "source": [
    "**🎉 Behind the scenes:**\n",
    "1. The LLM recognized this needs calculation\n",
    "2. It called `math_calculator(expression=\"127 * 893\")`\n",
    "3. The SDK executed the tool: `127 * 893 = 113411`\n",
    "4. The LLM received the result\n",
    "5. The LLM formatted a natural language response\n",
    "\n",
    "All automatic!"
   ]
  },
  {
   "cell_type": "markdown",
   "metadata": {},
   "source": [
    "Let's try more complex calculations:"
   ]
  },
  {
   "cell_type": "code",
   "execution_count": null,
   "metadata": {},
   "outputs": [],
   "source": [
    "# Complex expression\n",
    "response = client.chat(\"Calculate: (15 + 25) * 3 / 2\")\n",
    "print(\"Complex:\", response)\n",
    "\n",
    "# With context\n",
    "response = client.chat(\n",
    "    \"If I have 12 boxes with 24 items each, and I sell them at $3.50 per item, \"\n",
    "    \"how much revenue do I make?\"\n",
    ")\n",
    "print(\"\\nWith context:\", response)\n",
    "\n",
    "# Multiple calculations\n",
    "response = client.chat(\n",
    "    \"What's the area of a rectangle with width 15.5 and height 23.7? \"\n",
    "    \"And what's the perimeter?\"\n",
    ")\n",
    "print(\"\\nMultiple calculations:\", response)"
   ]
  },
  {
   "cell_type": "markdown",
   "metadata": {},
   "source": [
    "## 3️⃣ Built-in Tool: text_transformer\n",
    "\n",
    "The `text_transformer` tool can uppercase, lowercase, reverse, or count words in text."
   ]
  },
  {
   "cell_type": "code",
   "execution_count": null,
   "metadata": {},
   "outputs": [],
   "source": [
    "# Uppercase transformation\n",
    "response = client.chat(\"Convert 'hello world' to uppercase\")\n",
    "print(\"Uppercase:\", response)\n",
    "\n",
    "# Lowercase transformation\n",
    "response = client.chat(\"Make 'PYTHON IS AWESOME' all lowercase\")\n",
    "print(\"\\nLowercase:\", response)\n",
    "\n",
    "# Reverse text\n",
    "response = client.chat(\"Reverse the text: 'artificial intelligence'\")\n",
    "print(\"\\nReverse:\", response)\n",
    "\n",
    "# Count words\n",
    "response = client.chat(\n",
    "    \"How many words are in this sentence: 'The quick brown fox jumps over the lazy dog'\"\n",
    ")\n",
    "print(\"\\nWord count:\", response)"
   ]
  },
  {
   "cell_type": "markdown",
   "metadata": {},
   "source": [
    "## 4️⃣ Built-in Tool: char_counter\n",
    "\n",
    "The `char_counter` tool counts characters in text (with option to include/exclude spaces)."
   ]
  },
  {
   "cell_type": "code",
   "execution_count": null,
   "metadata": {},
   "outputs": [],
   "source": [
    "# Count with spaces\n",
    "response = client.chat(\"How many characters are in 'Hello, World!' including spaces?\")\n",
    "print(\"With spaces:\", response)\n",
    "\n",
    "# Count without spaces\n",
    "response = client.chat(\"How many characters are in 'Hello, World!' excluding spaces?\")\n",
    "print(\"\\nWithout spaces:\", response)\n",
    "\n",
    "# Compare lengths\n",
    "response = client.chat(\n",
    "    \"Which is longer: 'supercalifragilisticexpialidocious' or 'antidisestablishmentarianism'? \"\n",
    "    \"Tell me the character count of each.\"\n",
    ")\n",
    "print(\"\\nComparison:\", response)"
   ]
  },
  {
   "cell_type": "markdown",
   "metadata": {},
   "source": [
    "## 5️⃣ Inspecting Tool Calls\n",
    "\n",
    "To see exactly what tools were called, use `return_full_response=True`."
   ]
  },
  {
   "cell_type": "code",
   "execution_count": null,
   "metadata": {},
   "outputs": [],
   "source": [
    "# Get full response to see tool calls\n",
    "response = client.chat(\n",
    "    \"What is 456 * 789 and also uppercase the word 'python'\",\n",
    "    return_full_response=True\n",
    ")\n",
    "\n",
    "print(\"📊 Response Analysis:\\n\")\n",
    "print(f\"Model: {response.model}\")\n",
    "print(f\"Finish reason: {response.choices[0].finish_reason}\")\n",
    "print(f\"\\nFinal message: {response.choices[0].message.content}\")\n",
    "\n",
    "# Check if tools were called\n",
    "message = response.choices[0].message\n",
    "if message.tool_calls:\n",
    "    print(f\"\\n🔧 Tool Calls Made: {len(message.tool_calls)}\")\n",
    "    for i, tool_call in enumerate(message.tool_calls, 1):\n",
    "        print(f\"\\nTool Call {i}:\")\n",
    "        print(f\"  Function: {tool_call.function.name}\")\n",
    "        print(f\"  Arguments: {tool_call.function.arguments}\")\n",
    "        print(f\"  ID: {tool_call.id}\")\n",
    "else:\n",
    "    print(\"\\n(No tools were called)\")"
   ]
  },
  {
   "cell_type": "markdown",
   "metadata": {},
   "source": [
    "**💡 Understanding the output:**\n",
    "\n",
    "- `tool_calls`: List of all tools the LLM requested\n",
    "- `function.name`: Which tool was called\n",
    "- `function.arguments`: Parameters passed to the tool (JSON string)\n",
    "- `id`: Unique identifier for this tool call\n",
    "\n",
    "The SDK automatically executes these and sends results back to the LLM."
   ]
  },
  {
   "cell_type": "markdown",
   "metadata": {},
   "source": [
    "## 6️⃣ Combining Multiple Tools\n",
    "\n",
    "The LLM can use multiple tools in a single conversation to solve complex tasks."
   ]
  },
  {
   "cell_type": "code",
   "execution_count": null,
   "metadata": {},
   "outputs": [],
   "source": [
    "# Complex request requiring multiple tools\n",
    "response = client.chat(\n",
    "    \"I have a text: 'The Quick BROWN fox'. \"\n",
    "    \"Make it all lowercase, count the characters (no spaces), \"\n",
    "    \"and if the character count is even, multiply it by 5, otherwise multiply by 3.\"\n",
    ")\n",
    "\n",
    "print(\"Result:\", response)"
   ]
  },
  {
   "cell_type": "markdown",
   "metadata": {},
   "source": [
    "**🧠 The LLM orchestrated:**\n",
    "1. `text_transformer` to lowercase\n",
    "2. `char_counter` to count (without spaces)\n",
    "3. `math_calculator` to multiply based on even/odd\n",
    "\n",
    "This shows the power of tools - the LLM becomes a coordinator!"
   ]
  },
  {
   "cell_type": "markdown",
   "metadata": {},
   "source": [
    "## 7️⃣ Tools with Conversation History\n",
    "\n",
    "Tools work seamlessly with conversation history."
   ]
  },
  {
   "cell_type": "code",
   "execution_count": null,
   "metadata": {},
   "outputs": [],
   "source": [
    "# Start a conversation with tools\n",
    "history = []\n",
    "\n",
    "# Turn 1: Ask about a calculation\n",
    "response1, history = client.chat_with_history(\n",
    "    \"What is 25 * 16?\",\n",
    "    history\n",
    ")\n",
    "print(\"Turn 1:\")\n",
    "print(f\"You: What is 25 * 16?\")\n",
    "print(f\"LLM: {response1}\")\n",
    "\n",
    "# Turn 2: Reference previous result\n",
    "response2, history = client.chat_with_history(\n",
    "    \"Now add 100 to that result.\",\n",
    "    history\n",
    ")\n",
    "print(\"\\nTurn 2:\")\n",
    "print(f\"You: Now add 100 to that result.\")\n",
    "print(f\"LLM: {response2}\")\n",
    "\n",
    "# Turn 3: More operations\n",
    "response3, history = client.chat_with_history(\n",
    "    \"Convert that number to a string and count its characters.\",\n",
    "    history\n",
    ")\n",
    "print(\"\\nTurn 3:\")\n",
    "print(f\"You: Convert that number to a string and count its characters.\")\n",
    "print(f\"LLM: {response3}\")"
   ]
  },
  {
   "cell_type": "markdown",
   "metadata": {},
   "source": [
    "**💡 Notice:**\n",
    "- The LLM remembers previous calculations\n",
    "- \"that result\" correctly refers to the earlier answer\n",
    "- Tools are used across multiple conversation turns\n",
    "- Context + Tools = Powerful interactions!"
   ]
  },
  {
   "cell_type": "markdown",
   "metadata": {},
   "source": [
    "## 🏋️ Exercise: Multi-Tool Text Analyzer\n",
    "\n",
    "**Challenge:** Create a conversation that:\n",
    "1. Takes a sample text: \"The LOCAL LLM SDK makes AI Development EASIER!\"\n",
    "2. Converts it to lowercase\n",
    "3. Counts characters with and without spaces\n",
    "4. Counts words\n",
    "5. Calculates the average character-per-word ratio\n",
    "\n",
    "Requirements:\n",
    "- Use at least 3 different built-in tools\n",
    "- Show each step of the analysis\n",
    "- Display the final statistics\n",
    "\n",
    "Try it yourself first!"
   ]
  },
  {
   "cell_type": "code",
   "execution_count": null,
   "metadata": {},
   "outputs": [],
   "source": [
    "# Your code here:\n",
    "\n"
   ]
  },
  {
   "cell_type": "markdown",
   "metadata": {},
   "source": [
    "<details>\n",
    "<summary>Click to see solution</summary>\n",
    "\n",
    "```python\n",
    "# Solution: Multi-tool text analyzer\n",
    "\n",
    "sample_text = \"The LOCAL LLM SDK makes AI Development EASIER!\"\n",
    "\n",
    "print(\"📝 Text Analysis Tool Demo\\n\")\n",
    "print(f\"Original text: {sample_text}\")\n",
    "print(\"=\"*70 + \"\\n\")\n",
    "\n",
    "# Analysis request\n",
    "response = client.chat(\n",
    "    f\"Analyze this text: '{sample_text}'. \"\n",
    "    f\"First, convert it to lowercase. \"\n",
    "    f\"Then tell me: \"\n",
    "    f\"(1) how many characters including spaces, \"\n",
    "    f\"(2) how many characters excluding spaces, \"\n",
    "    f\"(3) how many words, and \"\n",
    "    f\"(4) calculate the average characters per word (chars without spaces / word count).\"\n",
    ")\n",
    "\n",
    "print(\"🔍 Analysis Results:\")\n",
    "print(response)\n",
    "\n",
    "# Alternative: Step by step with conversation history\n",
    "print(\"\\n\" + \"=\"*70)\n",
    "print(\"\\n📊 Step-by-Step Analysis:\\n\")\n",
    "\n",
    "history = []\n",
    "\n",
    "# Step 1: Lowercase\n",
    "response1, history = client.chat_with_history(\n",
    "    f\"Convert to lowercase: '{sample_text}'\",\n",
    "    history\n",
    ")\n",
    "print(f\"Step 1 - Lowercase: {response1}\")\n",
    "\n",
    "# Step 2: Character counts\n",
    "response2, history = client.chat_with_history(\n",
    "    \"Count characters in that lowercased text, both with and without spaces.\",\n",
    "    history\n",
    ")\n",
    "print(f\"\\nStep 2 - Char counts: {response2}\")\n",
    "\n",
    "# Step 3: Word count\n",
    "response3, history = client.chat_with_history(\n",
    "    \"How many words are in it?\",\n",
    "    history\n",
    ")\n",
    "print(f\"\\nStep 3 - Word count: {response3}\")\n",
    "\n",
    "# Step 4: Average\n",
    "response4, history = client.chat_with_history(\n",
    "    \"Calculate the average characters per word (using chars without spaces).\",\n",
    "    history\n",
    ")\n",
    "print(f\"\\nStep 4 - Average: {response4}\")\n",
    "```\n",
    "</details>"
   ]
  },
  {
   "cell_type": "code",
   "execution_count": null,
   "metadata": {},
   "outputs": [],
   "source": [
    "# Solution cell (run this to see the answer)\n",
    "sample_text = \"The LOCAL LLM SDK makes AI Development EASIER!\"\n",
    "\n",
    "print(\"📝 Text Analysis Tool Demo\\n\")\n",
    "print(f\"Original text: {sample_text}\")\n",
    "print(\"=\"*70 + \"\\n\")\n",
    "\n",
    "# One-shot analysis\n",
    "response = client.chat(\n",
    "    f\"Analyze this text: '{sample_text}'. \"\n",
    "    f\"First, convert it to lowercase. \"\n",
    "    f\"Then tell me: \"\n",
    "    f\"(1) how many characters including spaces, \"\n",
    "    f\"(2) how many characters excluding spaces, \"\n",
    "    f\"(3) how many words, and \"\n",
    "    f\"(4) calculate the average characters per word (chars without spaces / word count).\"\n",
    ")\n",
    "\n",
    "print(\"🔍 Analysis Results:\")\n",
    "print(response)\n",
    "\n",
    "# Step-by-step version\n",
    "print(\"\\n\" + \"=\"*70)\n",
    "print(\"\\n📊 Step-by-Step Analysis:\\n\")\n",
    "\n",
    "history = []\n",
    "\n",
    "response1, history = client.chat_with_history(\n",
    "    f\"Convert to lowercase: '{sample_text}'\",\n",
    "    history\n",
    ")\n",
    "print(f\"Step 1 - Lowercase: {response1}\")\n",
    "\n",
    "response2, history = client.chat_with_history(\n",
    "    \"Count characters in that lowercased text, both with and without spaces.\",\n",
    "    history\n",
    ")\n",
    "print(f\"\\nStep 2 - Char counts: {response2}\")\n",
    "\n",
    "response3, history = client.chat_with_history(\n",
    "    \"How many words are in it?\",\n",
    "    history\n",
    ")\n",
    "print(f\"\\nStep 3 - Word count: {response3}\")\n",
    "\n",
    "response4, history = client.chat_with_history(\n",
    "    \"Calculate the average characters per word (using chars without spaces).\",\n",
    "    history\n",
    ")\n",
    "print(f\"\\nStep 4 - Average: {response4}\")"
   ]
  },
  {
   "cell_type": "markdown",
   "metadata": {},
   "source": [
    "## ⚠️ Common Pitfalls\n",
    "\n",
    "### 1. Forgetting to Register Tools\n",
    "```python\n",
    "# ❌ Bad: Tools not registered\n",
    "client = LocalLLMClient(base_url=\"...\", model=\"...\")\n",
    "response = client.chat(\"Calculate 5 * 5\")\n",
    "# LLM tries to do math itself (often wrong)\n",
    "\n",
    "# ✅ Good: Register tools first\n",
    "client = LocalLLMClient(base_url=\"...\", model=\"...\")\n",
    "client.register_tools(get_builtin_tools())\n",
    "response = client.chat(\"Calculate 5 * 5\")\n",
    "```\n",
    "\n",
    "### 2. Using Tools for Simple Tasks\n",
    "```python\n",
    "# ❌ Overkill: Tool for \"2+2\"\n",
    "response = client.chat(\"What is 2 + 2?\")\n",
    "# LLM might use calculator for trivial math\n",
    "\n",
    "# ✅ Better: Let LLM handle simple cases\n",
    "# For very simple operations, the LLM is fine\n",
    "# Use tools for complex, precise, or multi-step calculations\n",
    "```\n",
    "\n",
    "### 3. Model Doesn't Support Function Calling\n",
    "```python\n",
    "# ⚠️ Some models don't support function calling well\n",
    "# Check your model's capabilities:\n",
    "# - Qwen, Hermes, Functionary: Good function calling\n",
    "# - Older or smaller models: May not support it\n",
    "\n",
    "# Test with a simple tool call to verify\n",
    "response = client.chat(\"Calculate 123 * 456\")\n",
    "# If answer is wrong, model may not support tools\n",
    "```\n",
    "\n",
    "### 4. Not Handling Tool Errors\n",
    "```python\n",
    "# ❌ Bad: Unsafe expression\n",
    "response = client.chat(\"Calculate: import os; os.system('rm -rf /')\")\n",
    "# math_calculator blocks this, but be aware\n",
    "\n",
    "# ✅ Good: Tools have built-in safety\n",
    "# math_calculator only allows math operations\n",
    "# Always validate tool parameters in custom tools\n",
    "```"
   ]
  },
  {
   "cell_type": "markdown",
   "metadata": {},
   "source": [
    "## 🎓 What You Learned\n",
    "\n",
    "✅ **Tool Concept**: Functions that extend LLM capabilities beyond text generation\n",
    "\n",
    "✅ **Built-in Tools**: `math_calculator`, `text_transformer`, `char_counter`\n",
    "\n",
    "✅ **Automatic Execution**: SDK handles tool calls transparently\n",
    "\n",
    "✅ **Tool Inspection**: Use `return_full_response=True` to see tool_calls\n",
    "\n",
    "✅ **Multi-Tool Tasks**: LLM can orchestrate multiple tools for complex operations\n",
    "\n",
    "✅ **Tools + History**: Combine tools with conversation context for powerful workflows\n",
    "\n",
    "✅ **Registration**: Must register tools with `client.register_tools()` before use"
   ]
  },
  {
   "cell_type": "markdown",
   "metadata": {},
   "source": [
    "## 🚀 Next Steps\n",
    "\n",
    "You've mastered built-in tools! Now let's create your own custom tools.\n",
    "\n",
    "➡️ Continue to [05-custom-tools.ipynb](./05-custom-tools.ipynb) to learn how to:\n",
    "- Create custom tools with the `@tool` decorator\n",
    "- Define parameters with type hints\n",
    "- Handle errors in tool functions\n",
    "- Register and use your own tools\n",
    "- Build a complete unit converter tool\n",
    "- Follow best practices for tool design"
   ]
  }
 ],
 "metadata": {
  "kernelspec": {
   "display_name": "Python 3",
   "language": "python",
   "name": "python3"
  },
  "language_info": {
   "codemirror_mode": {
    "name": "ipython",
    "version": 3
   },
   "file_extension": ".py",
   "mimetype": "text/x-python",
   "name": "python",
   "nbconvert_exporter": "python",
   "pygments_lexer": "ipython3",
   "version": "3.9.12"
  }
 },
 "nbformat": 4,
 "nbformat_minor": 4
}