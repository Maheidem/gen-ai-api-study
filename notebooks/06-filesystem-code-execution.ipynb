{
 "cells": [
  {
   "cell_type": "markdown",
   "metadata": {},
   "source": [
    "# 🖥️ 06: Filesystem and Code Execution\n",
    "\n",
    "Learn how to give your LLM the ability to execute Python code and perform file operations, enabling it to compute results and persist data."
   ]
  },
  {
   "cell_type": "markdown",
   "metadata": {},
   "source": [
    "## 📋 Learning Objectives\n",
    "\n",
    "By the end of this notebook, you will be able to:\n",
    "\n",
    "- [ ] Execute Python code dynamically using the `execute_python` tool\n",
    "- [ ] Perform file operations with the `filesystem_operation` tool\n",
    "- [ ] Understand working directory concepts for file paths\n",
    "- [ ] Separate concerns: computation vs. I/O operations\n",
    "- [ ] Handle security considerations for code execution\n",
    "- [ ] Build a file-based counter using both tools\n",
    "- [ ] Understand when to use each tool appropriately"
   ]
  },
  {
   "cell_type": "markdown",
   "metadata": {},
   "source": [
    "## 🎯 Prerequisites\n",
    "\n",
    "- Completed notebook 05 (Custom Tools)\n",
    "- Understanding of tool registration and usage\n",
    "- Basic Python file operations knowledge\n",
    "- Awareness of code execution security implications"
   ]
  },
  {
   "cell_type": "markdown",
   "metadata": {},
   "source": [
    "## ⏱️ Estimated Time: 15 minutes"
   ]
  },
  {
   "cell_type": "markdown",
   "metadata": {},
   "source": [
    "## ⚠️ Security Warning\n",
    "\n",
    "**IMPORTANT:** The `execute_python` tool executes arbitrary Python code. This is powerful but potentially dangerous:\n",
    "\n",
    "- Only use in trusted environments\n",
    "- Never expose to untrusted users without sandboxing\n",
    "- Be aware that code can modify files, network, etc.\n",
    "- Consider using restricted execution environments for production\n",
    "\n",
    "For learning purposes in this notebook, we're using it in a controlled manner."
   ]
  },
  {
   "cell_type": "markdown",
   "metadata": {},
   "source": [
    "## 1️⃣ The execute_python Tool\n",
    "\n",
    "The `execute_python` tool runs Python code dynamically and returns the results."
   ]
  },
  {
   "cell_type": "code",
   "execution_count": 14,
   "metadata": {},
   "outputs": [],
   "source": [
    "from dotenv import load_dotenv\n",
    "import os\n",
    "\n",
    "load_dotenv()\n",
    "\n",
    "from local_llm_sdk import LocalLLMClient\n",
    "\n",
    "# Create client and register all built-in tools\n",
    "client = LocalLLMClient(\n",
    "    base_url=os.getenv(\"LLM_BASE_URL\"),\n",
    "    model=os.getenv(\"LLM_MODEL\")\n",
    ")\n",
    "\n",
    "# Register built-in tools (execute_python, filesystem_operation, etc.)\n",
    "client.register_tools_from(None)\n",
    "\n",
    "print(\"✅ Registered tools:\")\n",
    "for tool_name in client.tools.list_tools():\n",
    "    print(f\"  - {tool_name}\")"
   ]
  },
  {
   "cell_type": "markdown",
   "metadata": {},
   "source": [
    "Let's execute some Python code:"
   ]
  },
  {
   "cell_type": "code",
   "execution_count": 15,
   "metadata": {},
   "outputs": [
    {
     "name": "stdout",
     "output_type": "stream",
     "text": [
      "Factorial calculation:\n",
      "The factorial of 10 is calculated to be:\n",
      "\n",
      "\\[\n",
      "\\boxed{3628800}\n",
      "\\]\n",
      "\n",
      "🔧 Tool Execution Summary (1 call):\n",
      "======================================================================\n",
      "  [1] execute_python(code=def factorial(n):\\n    if n == 0:\\n        return 1\\n    else:\\n        return n * factorial(n-1)\\n\\nresult = factorial(10)) → captured_result=3628800\n",
      "======================================================================\n",
      "\n"
     ]
    }
   ],
   "source": [
    "# Simple calculation\n",
    "response = client.chat(\"Use Python to calculate the factorial of 10\")\n",
    "print(\"Factorial calculation:\")\n",
    "print(response)\n",
    "client.print_tool_calls()"
   ]
  },
  {
   "cell_type": "markdown",
   "metadata": {},
   "source": [
    "**💡 What happened:**\n",
    "1. LLM recognized it needs to execute Python code\n",
    "2. It called `execute_python` with code like: `import math; math.factorial(10)`\n",
    "3. The code was executed in a Python interpreter\n",
    "4. The result was returned to the LLM\n",
    "5. The LLM formatted a response"
   ]
  },
  {
   "cell_type": "markdown",
   "metadata": {},
   "source": [
    "## 2️⃣ More Complex Computations\n",
    "\n",
    "The execute_python tool can handle complex calculations and algorithms."
   ]
  },
  {
   "cell_type": "code",
   "execution_count": 16,
   "metadata": {},
   "outputs": [
    {
     "name": "stdout",
     "output_type": "stream",
     "text": [
      "Statistics:\n",
      "The mean is approximately 52.7, the median is 49.5, and the standard deviation is approximately 27.13 for the given numbers [23, 45, 12, 67, 89, 34, 56, 78, 90, 21].\n",
      "\n",
      "🔧 Tool Execution Summary (1 call):\n",
      "======================================================================\n",
      "  [1] execute_python(code=import numpy as np\n",
      "numbers = [23, 45, 12, 67, 89, 34, 56, 78, 90, 21]\n",
      "mean = np.mean(numbers)\n",
      "median = np.median(numbers)\n",
      "std_dev = np.std(numbers)\n",
      "(mean, median, std_dev)) → success=True\n",
      "======================================================================\n",
      "\n",
      "\n",
      "======================================================================\n",
      "\n",
      "Fibonacci sequence:\n",
      "The first 15 Fibonacci numbers are:\n",
      "\n",
      "\\[0, 1, 1, 2, 3, 5, 8, 13, 21, 34, 55, 89, 144, 233, 377\\]\n",
      "\n",
      "🔧 Tool Execution Summary (1 call):\n",
      "======================================================================\n",
      "  [1] execute_python(code=def generate_fibonacci(n):\n",
      "    fibonacci_sequence = []\n",
      "    a, b = 0, 1\n",
      "    for _ in range(n):\n",
      "        fibonacci_sequence.append(a)\n",
      "        a, b = b, a + b\n",
      "    return fibonacci_sequence\n",
      "\n",
      "# Generate the first 15 Fibonacci numbers\n",
      "fibonacci_numbers = generate_fibonacci(15)\n",
      "fibonacci_numbers) → success=True\n",
      "======================================================================\n",
      "\n",
      "\n",
      "======================================================================\n",
      "\n",
      "Palindrome finder:\n",
      "The palindromes in the list are: ['racecar', 'level', 'madam']\n",
      "\n",
      "🔧 Tool Execution Summary (1 call):\n",
      "======================================================================\n",
      "  [1] execute_python(code=def is_palindrome(s):\n",
      "    return s == s[::-1]\n",
      "\n",
      "list_of_words = ['hello', 'racecar', 'python', 'level', 'world', 'madam']\n",
      "palindromes = [word for word in list_of_words if is_palindrome(word)]) → success=True\n",
      "======================================================================\n",
      "\n"
     ]
    }
   ],
   "source": [
    "# Statistical analysis\n",
    "response = client.chat(\n",
    "    \"Calculate the mean, median, and standard deviation of these numbers: \"\n",
    "    \"[23, 45, 12, 67, 89, 34, 56, 78, 90, 21]\"\n",
    ")\n",
    "print(\"Statistics:\")\n",
    "print(response)\n",
    "client.print_tool_calls()\n",
    "\n",
    "print(\"\\n\" + \"=\"*70 + \"\\n\")\n",
    "\n",
    "# Generate sequence\n",
    "response = client.chat(\n",
    "    \"Generate the first 15 Fibonacci numbers using Python\"\n",
    ")\n",
    "print(\"Fibonacci sequence:\")\n",
    "print(response)\n",
    "client.print_tool_calls()\n",
    "\n",
    "print(\"\\n\" + \"=\"*70 + \"\\n\")\n",
    "\n",
    "# String manipulation\n",
    "response = client.chat(\n",
    "    \"Use Python to find all palindromes in this list: \"\n",
    "    \"['hello', 'racecar', 'python', 'level', 'world', 'madam']\"\n",
    ")\n",
    "print(\"Palindrome finder:\")\n",
    "print(response)\n",
    "client.print_tool_calls()"
   ]
  },
  {
   "cell_type": "markdown",
   "metadata": {},
   "source": [
    "## 3️⃣ The filesystem_operation Tool\n",
    "\n",
    "The `filesystem_operation` tool allows reading, writing, and listing files."
   ]
  },
  {
   "cell_type": "code",
   "execution_count": 17,
   "metadata": {},
   "outputs": [
    {
     "name": "stdout",
     "output_type": "stream",
     "text": [
      "📁 Working directory: /tmp/tmp0yo19dv9\n",
      "\n",
      "File creation:\n",
      "The file 'hello.txt' has been created in '/tmp/tmp0yo19dv9' with the content: 'Hello from the LLM!'. The size of the file is 19 bytes.\n",
      "\n",
      "🔧 Tool Execution Summary (2 calls):\n",
      "======================================================================\n",
      "  [1] filesystem_operation(operation=create_dir, path=/tmp/tmp0yo19dv9) → success=True\n",
      "  [2] filesystem_operation(operation=write_file, path=/tmp/tmp0yo19dv9/hello.txt, content=Hello from the LLM!) → success=True\n",
      "======================================================================\n",
      "\n"
     ]
    }
   ],
   "source": [
    "import os\n",
    "import tempfile\n",
    "\n",
    "# Create a temporary directory for our examples\n",
    "temp_dir = tempfile.mkdtemp()\n",
    "print(f\"📁 Working directory: {temp_dir}\\n\")\n",
    "\n",
    "# Write a file\n",
    "response = client.chat(\n",
    "    f\"Create a file called 'hello.txt' in {temp_dir} with the content: 'Hello from the LLM!'\"\n",
    ")\n",
    "print(\"File creation:\")\n",
    "print(response)\n",
    "client.print_tool_calls()"
   ]
  },
  {
   "cell_type": "markdown",
   "metadata": {},
   "source": [
    "Read the file back:"
   ]
  },
  {
   "cell_type": "code",
   "execution_count": 18,
   "metadata": {},
   "outputs": [
    {
     "name": "stdout",
     "output_type": "stream",
     "text": [
      "File contents:\n",
      "The contents of the file /tmp/tmp0yo19dv9/hello.txt are:\n",
      "\n",
      "Hello from the LLM!\n"
     ]
    }
   ],
   "source": [
    "# Read the file\n",
    "response = client.chat(f\"Read the contents of {temp_dir}/hello.txt\")\n",
    "print(\"File contents:\")\n",
    "print(response)"
   ]
  },
  {
   "cell_type": "markdown",
   "metadata": {},
   "source": [
    "List files in directory:"
   ]
  },
  {
   "cell_type": "code",
   "execution_count": 19,
   "metadata": {},
   "outputs": [
    {
     "name": "stdout",
     "output_type": "stream",
     "text": [
      "Directory listing:\n",
      "Here are the files in the directory `/tmp/tmp0yo19dv9`:\n",
      "\n",
      "- `hello.txt` (Size: 19 bytes)\n"
     ]
    }
   ],
   "source": [
    "# List directory\n",
    "response = client.chat(f\"List all files in {temp_dir}\")\n",
    "print(\"Directory listing:\")\n",
    "print(response)"
   ]
  },
  {
   "cell_type": "markdown",
   "metadata": {},
   "source": [
    "**💡 filesystem_operation supports:**\n",
    "- `read`: Read file contents\n",
    "- `write`: Create or overwrite files\n",
    "- `list`: List directory contents\n",
    "- `append`: Add to existing files (if supported)\n",
    "- `delete`: Remove files (if supported)"
   ]
  },
  {
   "cell_type": "markdown",
   "metadata": {},
   "source": [
    "## 4️⃣ Combining Computation and File I/O: Two Approaches\n",
    "\n",
    "Let's combine `execute_python` (for computation) and `filesystem_operation` (for storage) using two different patterns:\n",
    "\n",
    "1. **Manual Multi-Step**: We orchestrate the tools ourselves (more control)\n",
    "2. **Agent Approach**: The LLM orchestrates automatically (more autonomous)\n",
    "\n",
    "This comparison will help you understand when to use each approach!"
   ]
  },
  {
   "cell_type": "code",
   "execution_count": 21,
   "metadata": {},
   "outputs": [
    {
     "name": "stdout",
     "output_type": "stream",
     "text": [
      "📊 Step 1: Generate data and calculate statistics\n",
      "\n",
      "Here is the list of 20 random numbers between 1 and 100 along with their mean and median:\n",
      "\n",
      "```python\n",
      "numbers = [6, 58, 82, 72, 5, 37, 81, 40, 10, 41, 25, 14, 12, 72, 78, 9, 35, 84, 12, 27]\n",
      "mean_value = 40\n",
      "median_value = 36.0\n",
      "```\n",
      "\n",
      "🔧 Tool Execution Summary (1 call):\n",
      "======================================================================\n",
      "  [1] execute_python(code=import random\n",
      "import statistics\n",
      "\n",
      "# Generate a list of 20 random numbers between 1 and 100\n",
      "numbers = [random.randint(1, 100) for _ in range(20)]\n",
      "mean_value = statistics.mean(numbers)\n",
      "median_value = statistics.median(numbers)\n",
      "\n",
      "# Prepare the results as a dictionary to return\n",
      "result = {\"numbers\": numbers, \"mean_value\": mean_value, \"median_value\": median_value}\n",
      "result, timeout=10) → captured_result={'numbers': [6, 58, 82, 72, 5, 37, 81, 40, 10, 41, 25, 14, 12, 72, 78, 9, 35, 84, 12, 27], 'mean_value': 40, 'median_value': 36.0}\n",
      "======================================================================\n",
      "\n",
      "\n",
      "======================================================================\n",
      "\n",
      "💾 Step 2: Save results to file\n",
      "\n",
      "The file has been successfully created at `/tmp/tmp0yo19dv9/data_analysis.txt` with the following content:\n",
      "\n",
      "```\n",
      "Random Numbers: [6, 58, 82, 72, 5, 37, 81, 40, 10, 41, 25, 14, 12, 72, 78, 9, 35, 84, 12, 27]\n",
      "Mean: 40\n",
      "Median: 36.0\n",
      "```\n",
      "\n",
      "🔧 Tool Execution Summary (1 call):\n",
      "======================================================================\n",
      "  [1] filesystem_operation(operation=write_file, path=/tmp/tmp0yo19dv9/data_analysis.txt, content=Random Numbers: [6, 58, 82, 72, 5, 37, 81, 40, 10, 41, 25, 14, 12, 72, 78, 9, 35, 84, 12, 27]\n",
      "Mean: 40\n",
      "Median: 36.0) → success=True\n",
      "======================================================================\n",
      "\n",
      "\n",
      "======================================================================\n",
      "\n",
      "💡 Notice: We manually orchestrated 2 tool calls in sequence\n",
      "   This works, but requires us to manage the workflow ourselves\n"
     ]
    }
   ],
   "source": [
    "### Manual Multi-Step Approach\n",
    "\n",
    "# When tasks are complex, it's better to break them into explicit steps\n",
    "# Step 1: Generate numbers and calculate statistics\n",
    "\n",
    "history = []\n",
    "\n",
    "print(\"📊 Step 1: Generate data and calculate statistics\\n\")\n",
    "response1, history = client.chat_with_history(\n",
    "    \"Use execute_python to generate a list of 20 random numbers between 1 and 100. \"\n",
    "    \"Calculate their mean and median. \"\n",
    "    \"Store the results in variables called: numbers, mean_value, median_value\",\n",
    "    tool_choice=\"required\",\n",
    "    history=history\n",
    ")\n",
    "print(response1)\n",
    "client.print_tool_calls()\n",
    "\n",
    "print(\"\\n\" + \"=\"*70 + \"\\n\")\n",
    "\n",
    "# Step 2: Save the results to a file\n",
    "print(\"💾 Step 2: Save results to file\\n\")\n",
    "response2, history = client.chat_with_history(\n",
    "    f\"Use filesystem_operation to write a file at {temp_dir}/data_analysis.txt\"\n",
    "    f\"with this content:\\n\"\n",
    "    f\"Random Numbers: [list of 20 numbers]\\n\"\n",
    "    f\"Mean: [calculated mean]\\n\"\n",
    "    f\"Median: [calculated median]\\n\"\n",
    "    f\"\\nUse the data from the previous calculation.\",\n",
    "    tool_choice=\"required\",\n",
    "    history=history\n",
    ")\n",
    "print(response2)\n",
    "client.print_tool_calls()\n",
    "\n",
    "print(\"\\n\" + \"=\"*70)\n",
    "print(\"\\n💡 Notice: We manually orchestrated 2 tool calls in sequence\")\n",
    "print(\"   This works, but requires us to manage the workflow ourselves\")"
   ]
  },
  {
   "cell_type": "markdown",
   "metadata": {},
   "source": [
    "### The Agent Approach (Preview)\n",
    "\n",
    "**What if the LLM could automatically figure out the steps and orchestrate the tools itself?**\n",
    "\n",
    "That's exactly what **agents** do! Let's see the same task with an agent:"
   ]
  },
  {
   "cell_type": "code",
   "execution_count": 22,
   "metadata": {},
   "outputs": [
    {
     "name": "stdout",
     "output_type": "stream",
     "text": [
      "🤖 Agent Approach: Autonomous execution\n",
      "\n",
      "Status: AgentStatus.ERROR\n",
      "Iterations: 0\n",
      "\n",
      "Final response:\n",
      "\n",
      "\n",
      "======================================================================\n",
      "\n",
      "🎯 Key Difference:\n",
      "   Manual: We specified 2 separate steps\n",
      "   Agent:  It figured out the steps automatically!\n",
      "\n",
      "💡 This is the power of ReACT agents - they reason about what\n",
      "   tools to use and when to use them, handling the orchestration for you.\n",
      "\n",
      "➡️  Learn more about agents in the next notebook: 07-react-agents.ipynb\n"
     ]
    }
   ],
   "source": [
    "# Use the react() method for autonomous multi-step execution\n",
    "print(\"🤖 Agent Approach: Autonomous execution\\n\")\n",
    "\n",
    "result = client.react(\n",
    "    f\"Generate a list of 20 random numbers between 1 and 100, \"\n",
    "    f\"calculate their mean and median, \"\n",
    "    f\"then save all the data to {temp_dir}/data_analysis.txt\",\n",
    "    max_iterations=10\n",
    ")\n",
    "\n",
    "print(f\"Status: {result.status}\")\n",
    "print(f\"Iterations: {result.iterations}\")\n",
    "print(f\"\\nFinal response:\\n{result.final_response}\")\n",
    "\n",
    "print(\"\\n\" + \"=\"*70)\n",
    "print(\"\\n🎯 Key Difference:\")\n",
    "print(\"   Manual: We specified 2 separate steps\")\n",
    "print(\"   Agent:  It figured out the steps automatically!\")\n",
    "print(\"\\n💡 This is the power of ReACT agents - they reason about what\")\n",
    "print(\"   tools to use and when to use them, handling the orchestration for you.\")\n",
    "print(\"\\n➡️  Learn more about agents in the next notebook: 07-react-agents.ipynb\")"
   ]
  },
  {
   "cell_type": "code",
   "execution_count": null,
   "metadata": {},
   "outputs": [
    {
     "name": "stdout",
     "output_type": "stream",
     "text": [
      "✅ File created successfully!\n",
      "\n",
      "📄 Contents of /tmp/tmp1lb4xc4f/data_analysis.txt:\n",
      "\n",
      "Random Numbers: [56, 21, 87, 34, 65, 23, 91, 12, 45, 78, 32, 60, 89, 10, 35, 72, 44, 29, 53, 90]\n",
      "Mean: 49.6\n",
      "Median: 49.0\n"
     ]
    }
   ],
   "source": [
    "# Verify the file was created\n",
    "import os\n",
    "file_path = f\"{temp_dir}/data_analysis.txt\"\n",
    "\n",
    "if os.path.exists(file_path):\n",
    "    print(f\"✅ File created successfully!\")\n",
    "    print(f\"\\n📄 Contents of {file_path}:\\n\")\n",
    "    with open(file_path, 'r') as f:\n",
    "        print(f.read())\n",
    "else:\n",
    "    print(f\"❌ File not found: {file_path}\")"
   ]
  },
  {
   "cell_type": "code",
   "execution_count": 24,
   "metadata": {},
   "outputs": [
    {
     "name": "stdout",
     "output_type": "stream",
     "text": [
      "🤖 Agent Approach: Autonomous execution\n",
      "\n",
      "================================================================================\n",
      "ReACT Agent: Starting task\n",
      "Max iterations: 10\n",
      "Task: Generate a list of 20 random numbers between 1 and 100, calculate their mean and median, then save a...\n",
      "================================================================================\n",
      "\n",
      "\n",
      "Iteration 1/10\n",
      "----------------------------------------\n",
      "Response: [TOOL_CALLS]execute_python[ARGS]{\"code\": \"import random\\nrandom_numbers = [random.randint(1, 100) for _ in range(20)]\\nmean_value = sum(random_numbers...\n",
      "Tools used: 1\n",
      "  - execute_python\n",
      "\n",
      "Iteration 2/10\n",
      "----------------------------------------\n",
      "Response: Got the numbers: [87, 32, 94, 23, 12, 45, 67, 56, 78, 19, 30, 41, 52, 63, 74, 85, 96, 10, 2, 3] with mean: 45.0 and median: 41.0.\n",
      "\n",
      "Next, I'll save thi...\n",
      "Tools used: 1\n",
      "  - execute_python\n",
      "\n",
      "Iteration 3/10\n",
      "----------------------------------------\n",
      "Response: [TOOL_CALLS]filesystem_operation[ARGS]{\"operation\": \"read_file\", \"path\": \"/tmp/tmp0yo19dv9/data_analysis.txt\"}\n",
      "Tools used: 2\n",
      "  - filesystem_operation\n",
      "  - TASK_COMPLETE, the data has been saved to /tmp/tmp0yo19dv9/data_analysis.txt. Would you like to see the contents?[TOOL_CALLS]filesystem_operation\n",
      "\n",
      "Iteration 4/10\n",
      "----------------------------------------\n",
      "⚠ Connection failed, retrying in 1s... (attempt 1/3)\n",
      "Response: TASK_COMPLETE\n",
      "Tools used: 2\n",
      "  - filesystem_operation\n",
      "  - TASK_COMPLETE_here_are_the_contents_of_data_analysis_txtRandom_numbers:_42,_87,_3,_56,_91,_14,_65,_22,_78,_33,_5,_89,_27,_45,_70,_9,_31,_62,_18,_54Mean:_42_0Median:_42[TOOL_CALLS]filesystem_operation\n",
      "\n",
      "================================================================================\n",
      "✓ Task completed successfully in 4 iterations\n",
      "================================================================================\n",
      "Status: AgentStatus.SUCCESS\n",
      "Steps taken: 4\n",
      "\n",
      "Final response:\n",
      "TASK_COMPLETE\n",
      "\n",
      "======================================================================\n",
      "\n",
      "🎯 Key Difference:\n",
      "   Manual: We specified 2 separate steps\n",
      "   Agent:  It figured out the steps automatically!\n",
      "\n",
      "💡 This is the power of ReACT agents - they reason about what\n",
      "   tools to use and when to use them, handling the orchestration for you.\n",
      "\n",
      "➡️  Learn more about agents in the next notebook: 07-react-agents.ipynb\n"
     ]
    }
   ],
   "source": [
    "# Use the react() method for autonomous multi-step execution\n",
    "print(\"🤖 Agent Approach: Autonomous execution\\n\")\n",
    "\n",
    "result = client.react(\n",
    "    f\"Generate a list of 20 random numbers between 1 and 100, \"\n",
    "    f\"calculate their mean and median, \"\n",
    "    f\"then save all the data to {temp_dir}/data_analysis.txt\",\n",
    "    max_iterations=10\n",
    ")\n",
    "\n",
    "print(f\"Status: {result.status}\")\n",
    "print(f\"Steps taken: {result.iterations}\")\n",
    "print(f\"\\nFinal response:\\n{result.final_response}\")\n",
    "\n",
    "print(\"\\n\" + \"=\"*70)\n",
    "print(\"\\n🎯 Key Difference:\")\n",
    "print(\"   Manual: We specified 2 separate steps\")\n",
    "print(\"   Agent:  It figured out the steps automatically!\")\n",
    "print(\"\\n💡 This is the power of ReACT agents - they reason about what\")\n",
    "print(\"   tools to use and when to use them, handling the orchestration for you.\")\n",
    "print(\"\\n➡️  Learn more about agents in the next notebook: 07-react-agents.ipynb\")"
   ]
  },
  {
   "cell_type": "code",
   "execution_count": 25,
   "metadata": {},
   "outputs": [
    {
     "name": "stdout",
     "output_type": "stream",
     "text": [
      "Analysis results:\n",
      "Here is the content of the file /tmp/tmp0yo19dv9/data_analysis.txt:\n",
      "\n",
      "Random numbers: [42, 87, 3, 56, 91, 14, 65, 22, 78, 33, 5, 89, 27, 45, 70, 9, 31, 62, 18, 54]\n",
      "Mean: 42.0\n",
      "Median: 42\n"
     ]
    }
   ],
   "source": [
    "# Read the analysis file\n",
    "response = client.chat(f\"Read {temp_dir}/data_analysis.txt\")\n",
    "print(\"Analysis results:\")\n",
    "print(response)"
   ]
  },
  {
   "cell_type": "markdown",
   "metadata": {},
   "source": [
    "## 5️⃣ Tool Separation: When to Use Each\n",
    "\n",
    "Understanding when to use `execute_python` vs `filesystem_operation`:"
   ]
  },
  {
   "cell_type": "markdown",
   "metadata": {},
   "source": [
    "### execute_python: For Computation\n",
    "\n",
    "Use when you need to:\n",
    "- Perform calculations\n",
    "- Run algorithms\n",
    "- Process data structures\n",
    "- Use Python libraries\n",
    "- Generate sequences or patterns\n",
    "\n",
    "**Example tasks:**\n",
    "- Sort an array\n",
    "- Calculate statistics\n",
    "- Parse dates\n",
    "- Generate random data\n",
    "- Apply mathematical formulas"
   ]
  },
  {
   "cell_type": "code",
   "execution_count": 26,
   "metadata": {},
   "outputs": [
    {
     "name": "stdout",
     "output_type": "stream",
     "text": [
      "Computation example:\n",
      "The numbers sorted in descending order and every 3rd element are as follows:\n",
      "\n",
      "Sorted Numbers: [90, 89, 87, 78, 67, 65, 56, 54, 45, 43, 34, 32, 23, 21, 12]\n",
      "\n",
      "Every 3rd Element: [87, 65, 54, 43, 32]\n"
     ]
    }
   ],
   "source": [
    "# Good use of execute_python\n",
    "response = client.chat(\n",
    "    \"Sort these numbers in descending order and show every 3rd element: \"\n",
    "    \"[45, 12, 78, 23, 89, 34, 56, 67, 90, 21, 43, 65, 87, 32, 54]\"\n",
    ")\n",
    "print(\"Computation example:\")\n",
    "print(response)"
   ]
  },
  {
   "cell_type": "markdown",
   "metadata": {},
   "source": [
    "### filesystem_operation: For I/O\n",
    "\n",
    "Use when you need to:\n",
    "- Read data from files\n",
    "- Save results to disk\n",
    "- List directory contents\n",
    "- Persist state between conversations\n",
    "- Load configuration\n",
    "\n",
    "**Example tasks:**\n",
    "- Save report to file\n",
    "- Read CSV data\n",
    "- Create log entries\n",
    "- Store user preferences\n",
    "- Load templates"
   ]
  },
  {
   "cell_type": "code",
   "execution_count": 27,
   "metadata": {},
   "outputs": [
    {
     "name": "stdout",
     "output_type": "stream",
     "text": [
      "File I/O example:\n",
      "The todo list has been created at the specified location. Here are the contents of `/tmp/tmp0yo19dv9/todos.txt`:\n",
      "```\n",
      "1. Learn about filesystem tools\n",
      "2. Practice code execution\n",
      "3. Build something cool\n",
      "```\n"
     ]
    }
   ],
   "source": [
    "# Good use of filesystem_operation\n",
    "response = client.chat(\n",
    "    f\"Create a todo list file at {temp_dir}/todos.txt with these items:\\n\"\n",
    "    \"1. Learn about filesystem tools\\n\"\n",
    "    \"2. Practice code execution\\n\"\n",
    "    \"3. Build something cool\"\n",
    ")\n",
    "print(\"File I/O example:\")\n",
    "print(response)"
   ]
  },
  {
   "cell_type": "markdown",
   "metadata": {},
   "source": [
    "## 6️⃣ Working Directory Considerations\n",
    "\n",
    "File paths can be relative or absolute. Understanding the working directory is important."
   ]
  },
  {
   "cell_type": "code",
   "execution_count": 28,
   "metadata": {},
   "outputs": [
    {
     "name": "stdout",
     "output_type": "stream",
     "text": [
      "Current working directory:\n",
      "The current working directory is `/tmp/python_exec_ujzr1k2a`.\n",
      "\n",
      "💡 Tip: Always use absolute paths when working with files to avoid confusion!\n",
      "   Example absolute path: /tmp/tmp0yo19dv9/myfile.txt\n",
      "   Example relative path: myfile.txt (depends on CWD)\n"
     ]
    }
   ],
   "source": [
    "# Check current working directory\n",
    "response = client.chat(\"Use Python to print the current working directory\")\n",
    "print(\"Current working directory:\")\n",
    "print(response)\n",
    "\n",
    "print(\"\\n💡 Tip: Always use absolute paths when working with files to avoid confusion!\")\n",
    "print(f\"   Example absolute path: {temp_dir}/myfile.txt\")\n",
    "print(f\"   Example relative path: myfile.txt (depends on CWD)\")"
   ]
  },
  {
   "cell_type": "markdown",
   "metadata": {},
   "source": [
    "## 🏋️ Exercise: File-Based Counter\n",
    "\n",
    "**Challenge:** Build a persistent counter that:\n",
    "1. Stores its value in a file called `counter.txt`\n",
    "2. Reads the current value from the file (defaults to 0 if file doesn't exist)\n",
    "3. Increments the counter by a specified amount\n",
    "4. Saves the new value back to the file\n",
    "5. Returns the old value, new value, and increment amount\n",
    "\n",
    "Requirements:\n",
    "- Use `filesystem_operation` to read and write the file\n",
    "- Use `execute_python` if needed for calculations\n",
    "- Handle the case where the file doesn't exist yet\n",
    "- Test incrementing multiple times\n",
    "\n",
    "Try it yourself first!"
   ]
  },
  {
   "cell_type": "code",
   "execution_count": null,
   "metadata": {},
   "outputs": [],
   "source": [
    "# Your code here:\n",
    "\n"
   ]
  },
  {
   "cell_type": "markdown",
   "metadata": {},
   "source": [
    "<details>\n",
    "<summary>Click to see solution</summary>\n",
    "\n",
    "```python\n",
    "# Solution: File-based persistent counter\n",
    "\n",
    "import os\n",
    "\n",
    "counter_file = os.path.join(temp_dir, \"counter.txt\")\n",
    "\n",
    "print(\"🔢 File-Based Counter Application\\n\")\n",
    "print(\"=\"*70 + \"\\n\")\n",
    "print(f\"Counter file: {counter_file}\\n\")\n",
    "\n",
    "# Initialize counter (first use)\n",
    "print(\"Step 1: Initialize counter\")\n",
    "response = client.chat(\n",
    "    f\"Check if {counter_file} exists. If not, create it with value '0'. \"\n",
    "    f\"If it exists, read its current value.\"\n",
    ")\n",
    "print(response)\n",
    "print()\n",
    "\n",
    "# Increment by 5\n",
    "print(\"Step 2: Increment by 5\")\n",
    "response = client.chat(\n",
    "    f\"Read the number from {counter_file}, add 5 to it, \"\n",
    "    f\"save the new value back to the file, and tell me both the old and new values.\"\n",
    ")\n",
    "print(response)\n",
    "print()\n",
    "\n",
    "# Increment by 10\n",
    "print(\"Step 3: Increment by 10\")\n",
    "response = client.chat(\n",
    "    f\"Read the number from {counter_file}, add 10 to it, \"\n",
    "    f\"save the new value back to the file, and tell me both the old and new values.\"\n",
    ")\n",
    "print(response)\n",
    "print()\n",
    "\n",
    "# Increment by 3\n",
    "print(\"Step 4: Increment by 3\")\n",
    "response = client.chat(\n",
    "    f\"Read the number from {counter_file}, add 3 to it, \"\n",
    "    f\"save the new value back to the file, and tell me both the old and new values.\"\n",
    ")\n",
    "print(response)\n",
    "print()\n",
    "\n",
    "# Final check\n",
    "print(\"Step 5: Verify final value\")\n",
    "response = client.chat(f\"What is the current value in {counter_file}?\")\n",
    "print(response)\n",
    "print()\n",
    "\n",
    "print(\"=\"*70)\n",
    "print(\"\\n✅ Counter successfully persisted across multiple operations!\")\n",
    "print(f\"   Expected final value: 18 (0 + 5 + 10 + 3)\")\n",
    "```\n",
    "</details>"
   ]
  },
  {
   "cell_type": "code",
   "execution_count": null,
   "metadata": {},
   "outputs": [],
   "source": [
    "# Solution cell (run this to see the answer)\n",
    "counter_file = os.path.join(temp_dir, \"counter.txt\")\n",
    "\n",
    "print(\"🔢 File-Based Counter Application\\n\")\n",
    "print(\"=\"*70 + \"\\n\")\n",
    "print(f\"Counter file: {counter_file}\\n\")\n",
    "\n",
    "# Initialize\n",
    "print(\"Step 1: Initialize counter\")\n",
    "response = client.chat(\n",
    "    f\"Check if {counter_file} exists. If not, create it with value '0'. \"\n",
    "    f\"If it exists, read its current value.\"\n",
    ")\n",
    "print(response)\n",
    "print()\n",
    "\n",
    "# Increment by 5\n",
    "print(\"Step 2: Increment by 5\")\n",
    "response = client.chat(\n",
    "    f\"Read the number from {counter_file}, add 5 to it, \"\n",
    "    f\"save the new value back to the file, and tell me both the old and new values.\"\n",
    ")\n",
    "print(response)\n",
    "print()\n",
    "\n",
    "# Increment by 10\n",
    "print(\"Step 3: Increment by 10\")\n",
    "response = client.chat(\n",
    "    f\"Read the number from {counter_file}, add 10 to it, \"\n",
    "    f\"save the new value back to the file, and tell me both the old and new values.\"\n",
    ")\n",
    "print(response)\n",
    "print()\n",
    "\n",
    "# Increment by 3\n",
    "print(\"Step 4: Increment by 3\")\n",
    "response = client.chat(\n",
    "    f\"Read the number from {counter_file}, add 3 to it, \"\n",
    "    f\"save the new value back to the file, and tell me both the old and new values.\"\n",
    ")\n",
    "print(response)\n",
    "print()\n",
    "\n",
    "# Final check\n",
    "print(\"Step 5: Verify final value\")\n",
    "response = client.chat(f\"What is the current value in {counter_file}?\")\n",
    "print(response)\n",
    "print()\n",
    "\n",
    "print(\"=\"*70)\n",
    "print(\"\\n✅ Counter successfully persisted across multiple operations!\")\n",
    "print(f\"   Expected final value: 18 (0 + 5 + 10 + 3)\")"
   ]
  },
  {
   "cell_type": "markdown",
   "metadata": {},
   "source": [
    "## 🧹 Cleanup\n",
    "\n",
    "Let's clean up our temporary directory:"
   ]
  },
  {
   "cell_type": "code",
   "execution_count": 29,
   "metadata": {},
   "outputs": [
    {
     "name": "stdout",
     "output_type": "stream",
     "text": [
      "✅ Cleaned up temporary directory: /tmp/tmp0yo19dv9\n"
     ]
    }
   ],
   "source": [
    "import shutil\n",
    "\n",
    "# Remove temporary directory\n",
    "shutil.rmtree(temp_dir)\n",
    "print(f\"✅ Cleaned up temporary directory: {temp_dir}\")"
   ]
  },
  {
   "cell_type": "markdown",
   "metadata": {},
   "source": [
    "## ⚠️ Common Pitfalls\n",
    "\n",
    "### 1. Executing Unsafe Code\n",
    "```python\n",
    "# ❌ DANGEROUS: Never execute untrusted code\n",
    "user_code = input(\"Enter code: \")  # User could enter malicious code!\n",
    "response = client.chat(f\"Execute this Python: {user_code}\")\n",
    "\n",
    "# ✅ Good: Validate and sanitize, or use sandboxing\n",
    "# In production, use restricted execution environments\n",
    "```\n",
    "\n",
    "### 2. Using Relative Paths\n",
    "```python\n",
    "# ⚠️ Warning: Relative paths depend on working directory\n",
    "response = client.chat(\"Read myfile.txt\")  # Where is myfile.txt?\n",
    "\n",
    "# ✅ Good: Use absolute paths\n",
    "import os\n",
    "file_path = os.path.abspath(\"myfile.txt\")\n",
    "response = client.chat(f\"Read {file_path}\")\n",
    "```\n",
    "\n",
    "### 3. Not Handling File Errors\n",
    "```python\n",
    "# ❌ Bad: Assuming file exists\n",
    "response = client.chat(f\"Read {nonexistent_file}\")\n",
    "# Will error if file doesn't exist\n",
    "\n",
    "# ✅ Good: Check existence first or handle errors\n",
    "response = client.chat(\n",
    "    f\"Check if {file_path} exists. If yes, read it. If no, say file not found.\"\n",
    ")\n",
    "```\n",
    "\n",
    "### 4. Forgetting About Permissions\n",
    "```python\n",
    "# ⚠️ Warning: May not have write permissions\n",
    "response = client.chat(\"Write to /root/protected.txt\")\n",
    "# Could fail due to permissions\n",
    "\n",
    "# ✅ Good: Use directories you own\n",
    "import tempfile\n",
    "temp_dir = tempfile.mkdtemp()\n",
    "response = client.chat(f\"Write to {temp_dir}/file.txt\")\n",
    "```\n",
    "\n",
    "### 5. Mixing Concerns\n",
    "```python\n",
    "# ⚠️ Suboptimal: Using execute_python for file I/O\n",
    "response = client.chat(\n",
    "    \"Use Python to open 'data.txt', read it, and print contents\"\n",
    ")\n",
    "# Works, but filesystem_operation is designed for this\n",
    "\n",
    "# ✅ Better: Use the right tool for the job\n",
    "response = client.chat(\"Read the file 'data.txt'\")\n",
    "# filesystem_operation handles this directly\n",
    "```"
   ]
  },
  {
   "cell_type": "markdown",
   "metadata": {},
   "source": [
    "## 🎓 What You Learned\n",
    "\n",
    "✅ **execute_python**: Run Python code dynamically for computations\n",
    "\n",
    "✅ **filesystem_operation**: Read, write, list files for I/O operations\n",
    "\n",
    "✅ **Tool Separation**: Use execute_python for compute, filesystem_operation for I/O\n",
    "\n",
    "✅ **Working Directories**: Understand absolute vs relative paths\n",
    "\n",
    "✅ **Combining Tools**: Chain computation and storage for complete workflows\n",
    "\n",
    "✅ **Security**: Be aware of code execution risks\n",
    "\n",
    "✅ **Error Handling**: Check file existence, handle permissions\n",
    "\n",
    "✅ **Best Practices**: Use absolute paths, validate inputs, choose appropriate tools"
   ]
  },
  {
   "cell_type": "markdown",
   "metadata": {},
   "source": [
    "## 🎉 Congratulations!\n",
    "\n",
    "You've completed the core tutorial series for the Local LLM SDK!\n",
    "\n",
    "### What You've Mastered:\n",
    "\n",
    "1. **Basic Chat**: Simple interactions, system prompts, temperature control\n",
    "2. **Conversation History**: Multi-turn conversations with context\n",
    "3. **Built-in Tools**: Using pre-made tools (calculator, text transformer, etc.)\n",
    "4. **Custom Tools**: Creating your own tools with the @tool decorator\n",
    "5. **Filesystem & Code**: Executing Python and managing files\n",
    "\n",
    "### 🚀 What's Next?\n",
    "\n",
    "Now that you have the foundations, you can:\n",
    "\n",
    "**Build Real Applications:**\n",
    "- Create a chatbot with tool capabilities\n",
    "- Build a data analysis assistant\n",
    "- Make an automation tool for repetitive tasks\n",
    "- Develop a coding helper that executes and tests code\n",
    "\n",
    "**Explore Advanced Topics:**\n",
    "- Streaming responses for real-time output\n",
    "- Error handling and retry logic\n",
    "- Tool chaining for complex workflows\n",
    "- Integration with external APIs and services\n",
    "- Production deployment and security\n",
    "\n",
    "**Check Out the SDK Documentation:**\n",
    "- [README.md](../README.md) - Project overview and quick start\n",
    "- [local_llm_sdk/](../local_llm_sdk/) - Source code with detailed docstrings\n",
    "- `.documentation/` - Research and API comparisons\n",
    "\n",
    "### 💬 Questions or Issues?\n",
    "\n",
    "If you encounter any problems or have questions:\n",
    "1. Check the SDK source code for implementation details\n",
    "2. Review the documentation in `.documentation/`\n",
    "3. Test with LM Studio server logs for debugging\n",
    "4. Experiment in these notebooks to understand behavior\n",
    "\n",
    "### 🌟 Keep Learning!\n",
    "\n",
    "The best way to master the SDK is to build something. Start small, experiment often, and gradually increase complexity.\n",
    "\n",
    "Happy coding with Local LLM SDK!"
   ]
  }
 ],
 "metadata": {
  "kernelspec": {
   "display_name": "gen-ai",
   "language": "python",
   "name": "python3"
  },
  "language_info": {
   "codemirror_mode": {
    "name": "ipython",
    "version": 3
   },
   "file_extension": ".py",
   "mimetype": "text/x-python",
   "name": "python",
   "nbconvert_exporter": "python",
   "pygments_lexer": "ipython3",
   "version": "3.12.11"
  }
 },
 "nbformat": 4,
 "nbformat_minor": 4
}
