{
 "cells": [
  {
   "cell_type": "markdown",
   "metadata": {},
   "source": [
    "# 🖥️ 06: Filesystem and Code Execution\n",
    "\n",
    "Learn how to give your LLM the ability to execute Python code and perform file operations, enabling it to compute results and persist data."
   ]
  },
  {
   "cell_type": "markdown",
   "metadata": {},
   "source": [
    "## 📋 Learning Objectives\n",
    "\n",
    "By the end of this notebook, you will be able to:\n",
    "\n",
    "- [ ] Execute Python code dynamically using the `execute_python` tool\n",
    "- [ ] Perform file operations with the `filesystem_operation` tool\n",
    "- [ ] Understand working directory concepts for file paths\n",
    "- [ ] Separate concerns: computation vs. I/O operations\n",
    "- [ ] Handle security considerations for code execution\n",
    "- [ ] Build a file-based counter using both tools\n",
    "- [ ] Understand when to use each tool appropriately"
   ]
  },
  {
   "cell_type": "markdown",
   "metadata": {},
   "source": [
    "## 🎯 Prerequisites\n",
    "\n",
    "- Completed notebook 05 (Custom Tools)\n",
    "- Understanding of tool registration and usage\n",
    "- Basic Python file operations knowledge\n",
    "- Awareness of code execution security implications"
   ]
  },
  {
   "cell_type": "markdown",
   "metadata": {},
   "source": [
    "## ⏱️ Estimated Time: 15 minutes"
   ]
  },
  {
   "cell_type": "markdown",
   "metadata": {},
   "source": [
    "## ⚠️ Security Warning\n",
    "\n",
    "**IMPORTANT:** The `execute_python` tool executes arbitrary Python code. This is powerful but potentially dangerous:\n",
    "\n",
    "- Only use in trusted environments\n",
    "- Never expose to untrusted users without sandboxing\n",
    "- Be aware that code can modify files, network, etc.\n",
    "- Consider using restricted execution environments for production\n",
    "\n",
    "For learning purposes in this notebook, we're using it in a controlled manner."
   ]
  },
  {
   "cell_type": "markdown",
   "metadata": {},
   "source": [
    "## 1️⃣ The execute_python Tool\n",
    "\n",
    "The `execute_python` tool runs Python code dynamically and returns the results."
   ]
  },
  {
   "cell_type": "code",
   "execution_count": null,
   "metadata": {},
   "outputs": [],
   "source": [
    "from local_llm_sdk import LocalLLMClient\n",
    "from local_llm_sdk.tools import get_builtin_tools\n",
    "\n",
    "# Create client and register all built-in tools\n",
    "client = LocalLLMClient(\n",
    "    base_url=\"http://169.254.83.107:1234/v1\",\n",
    "    model=\"your-model-name\"\n",
    ")\n",
    "\n",
    "tools = get_builtin_tools()\n",
    "client.register_tools(tools)\n",
    "\n",
    "print(\"✅ Registered tools:\")\n",
    "for tool_name in client.tools.list_tools():\n",
    "    print(f\"  - {tool_name}\")"
   ]
  },
  {
   "cell_type": "markdown",
   "metadata": {},
   "source": [
    "Let's execute some Python code:"
   ]
  },
  {
   "cell_type": "code",
   "execution_count": null,
   "metadata": {},
   "outputs": [],
   "source": [
    "# Simple calculation\n",
    "response = client.chat(\"Use Python to calculate the factorial of 10\")\n",
    "print(\"Factorial calculation:\")\n",
    "print(response)"
   ]
  },
  {
   "cell_type": "markdown",
   "metadata": {},
   "source": [
    "**💡 What happened:**\n",
    "1. LLM recognized it needs to execute Python code\n",
    "2. It called `execute_python` with code like: `import math; math.factorial(10)`\n",
    "3. The code was executed in a Python interpreter\n",
    "4. The result was returned to the LLM\n",
    "5. The LLM formatted a response"
   ]
  },
  {
   "cell_type": "markdown",
   "metadata": {},
   "source": [
    "## 2️⃣ More Complex Computations\n",
    "\n",
    "The execute_python tool can handle complex calculations and algorithms."
   ]
  },
  {
   "cell_type": "code",
   "execution_count": null,
   "metadata": {},
   "outputs": [],
   "source": [
    "# Statistical analysis\n",
    "response = client.chat(\n",
    "    \"Calculate the mean, median, and standard deviation of these numbers: \"\n",
    "    \"[23, 45, 12, 67, 89, 34, 56, 78, 90, 21]\"\n",
    ")\n",
    "print(\"Statistics:\")\n",
    "print(response)\n",
    "\n",
    "print(\"\\n\" + \"=\"*70 + \"\\n\")\n",
    "\n",
    "# Generate sequence\n",
    "response = client.chat(\n",
    "    \"Generate the first 15 Fibonacci numbers using Python\"\n",
    ")\n",
    "print(\"Fibonacci sequence:\")\n",
    "print(response)\n",
    "\n",
    "print(\"\\n\" + \"=\"*70 + \"\\n\")\n",
    "\n",
    "# String manipulation\n",
    "response = client.chat(\n",
    "    \"Use Python to find all palindromes in this list: \"\n",
    "    \"['hello', 'racecar', 'python', 'level', 'world', 'madam']\"\n",
    ")\n",
    "print(\"Palindrome finder:\")\n",
    "print(response)"
   ]
  },
  {
   "cell_type": "markdown",
   "metadata": {},
   "source": [
    "## 3️⃣ The filesystem_operation Tool\n",
    "\n",
    "The `filesystem_operation` tool allows reading, writing, and listing files."
   ]
  },
  {
   "cell_type": "code",
   "execution_count": null,
   "metadata": {},
   "outputs": [],
   "source": [
    "import os\n",
    "import tempfile\n",
    "\n",
    "# Create a temporary directory for our examples\n",
    "temp_dir = tempfile.mkdtemp()\n",
    "print(f\"📁 Working directory: {temp_dir}\\n\")\n",
    "\n",
    "# Write a file\n",
    "response = client.chat(\n",
    "    f\"Create a file called 'hello.txt' in {temp_dir} with the content: 'Hello from the LLM!'\"\n",
    ")\n",
    "print(\"File creation:\")\n",
    "print(response)"
   ]
  },
  {
   "cell_type": "markdown",
   "metadata": {},
   "source": [
    "Read the file back:"
   ]
  },
  {
   "cell_type": "code",
   "execution_count": null,
   "metadata": {},
   "outputs": [],
   "source": [
    "# Read the file\n",
    "response = client.chat(f\"Read the contents of {temp_dir}/hello.txt\")\n",
    "print(\"File contents:\")\n",
    "print(response)"
   ]
  },
  {
   "cell_type": "markdown",
   "metadata": {},
   "source": [
    "List files in directory:"
   ]
  },
  {
   "cell_type": "code",
   "execution_count": null,
   "metadata": {},
   "outputs": [],
   "source": [
    "# List directory\n",
    "response = client.chat(f\"List all files in {temp_dir}\")\n",
    "print(\"Directory listing:\")\n",
    "print(response)"
   ]
  },
  {
   "cell_type": "markdown",
   "metadata": {},
   "source": [
    "**💡 filesystem_operation supports:**\n",
    "- `read`: Read file contents\n",
    "- `write`: Create or overwrite files\n",
    "- `list`: List directory contents\n",
    "- `append`: Add to existing files (if supported)\n",
    "- `delete`: Remove files (if supported)"
   ]
  },
  {
   "cell_type": "markdown",
   "metadata": {},
   "source": [
    "## 4️⃣ Combining Computation and File I/O\n",
    "\n",
    "Let's combine `execute_python` (for computation) and `filesystem_operation` (for storage)."
   ]
  },
  {
   "cell_type": "code",
   "execution_count": null,
   "metadata": {},
   "outputs": [],
   "source": [
    "# Create a data processing pipeline\n",
    "response = client.chat(\n",
    "    f\"Generate a list of 20 random numbers between 1 and 100 using Python, \"\n",
    "    f\"calculate their mean and median, \"\n",
    "    f\"then save the numbers and statistics to {temp_dir}/data_analysis.txt\"\n",
    ")\n",
    "\n",
    "print(\"Data processing pipeline:\")\n",
    "print(response)"
   ]
  },
  {
   "cell_type": "markdown",
   "metadata": {},
   "source": [
    "Verify the output file:"
   ]
  },
  {
   "cell_type": "code",
   "execution_count": null,
   "metadata": {},
   "outputs": [],
   "source": [
    "# Read the analysis file\n",
    "response = client.chat(f\"Read {temp_dir}/data_analysis.txt\")\n",
    "print(\"Analysis results:\")\n",
    "print(response)"
   ]
  },
  {
   "cell_type": "markdown",
   "metadata": {},
   "source": [
    "## 5️⃣ Tool Separation: When to Use Each\n",
    "\n",
    "Understanding when to use `execute_python` vs `filesystem_operation`:"
   ]
  },
  {
   "cell_type": "markdown",
   "metadata": {},
   "source": [
    "### execute_python: For Computation\n",
    "\n",
    "Use when you need to:\n",
    "- Perform calculations\n",
    "- Run algorithms\n",
    "- Process data structures\n",
    "- Use Python libraries\n",
    "- Generate sequences or patterns\n",
    "\n",
    "**Example tasks:**\n",
    "- Sort an array\n",
    "- Calculate statistics\n",
    "- Parse dates\n",
    "- Generate random data\n",
    "- Apply mathematical formulas"
   ]
  },
  {
   "cell_type": "code",
   "execution_count": null,
   "metadata": {},
   "outputs": [],
   "source": [
    "# Good use of execute_python\n",
    "response = client.chat(\n",
    "    \"Sort these numbers in descending order and show every 3rd element: \"\n",
    "    \"[45, 12, 78, 23, 89, 34, 56, 67, 90, 21, 43, 65, 87, 32, 54]\"\n",
    ")\n",
    "print(\"Computation example:\")\n",
    "print(response)"
   ]
  },
  {
   "cell_type": "markdown",
   "metadata": {},
   "source": [
    "### filesystem_operation: For I/O\n",
    "\n",
    "Use when you need to:\n",
    "- Read data from files\n",
    "- Save results to disk\n",
    "- List directory contents\n",
    "- Persist state between conversations\n",
    "- Load configuration\n",
    "\n",
    "**Example tasks:**\n",
    "- Save report to file\n",
    "- Read CSV data\n",
    "- Create log entries\n",
    "- Store user preferences\n",
    "- Load templates"
   ]
  },
  {
   "cell_type": "code",
   "execution_count": null,
   "metadata": {},
   "outputs": [],
   "source": [
    "# Good use of filesystem_operation\n",
    "response = client.chat(\n",
    "    f\"Create a todo list file at {temp_dir}/todos.txt with these items:\\n\"\n",
    "    \"1. Learn about filesystem tools\\n\"\n",
    "    \"2. Practice code execution\\n\"\n",
    "    \"3. Build something cool\"\n",
    ")\n",
    "print(\"File I/O example:\")\n",
    "print(response)"
   ]
  },
  {
   "cell_type": "markdown",
   "metadata": {},
   "source": [
    "## 6️⃣ Working Directory Considerations\n",
    "\n",
    "File paths can be relative or absolute. Understanding the working directory is important."
   ]
  },
  {
   "cell_type": "code",
   "execution_count": null,
   "metadata": {},
   "outputs": [],
   "source": [
    "# Check current working directory\n",
    "response = client.chat(\"Use Python to print the current working directory\")\n",
    "print(\"Current working directory:\")\n",
    "print(response)\n",
    "\n",
    "print(\"\\n💡 Tip: Always use absolute paths when working with files to avoid confusion!\")\n",
    "print(f\"   Example absolute path: {temp_dir}/myfile.txt\")\n",
    "print(f\"   Example relative path: myfile.txt (depends on CWD)\")"
   ]
  },
  {
   "cell_type": "markdown",
   "metadata": {},
   "source": [
    "## 🏋️ Exercise: File-Based Counter\n",
    "\n",
    "**Challenge:** Build a persistent counter that:\n",
    "1. Stores its value in a file called `counter.txt`\n",
    "2. Reads the current value from the file (defaults to 0 if file doesn't exist)\n",
    "3. Increments the counter by a specified amount\n",
    "4. Saves the new value back to the file\n",
    "5. Returns the old value, new value, and increment amount\n",
    "\n",
    "Requirements:\n",
    "- Use `filesystem_operation` to read and write the file\n",
    "- Use `execute_python` if needed for calculations\n",
    "- Handle the case where the file doesn't exist yet\n",
    "- Test incrementing multiple times\n",
    "\n",
    "Try it yourself first!"
   ]
  },
  {
   "cell_type": "code",
   "execution_count": null,
   "metadata": {},
   "outputs": [],
   "source": [
    "# Your code here:\n",
    "\n"
   ]
  },
  {
   "cell_type": "markdown",
   "metadata": {},
   "source": [
    "<details>\n",
    "<summary>Click to see solution</summary>\n",
    "\n",
    "```python\n",
    "# Solution: File-based persistent counter\n",
    "\n",
    "import os\n",
    "\n",
    "counter_file = os.path.join(temp_dir, \"counter.txt\")\n",
    "\n",
    "print(\"🔢 File-Based Counter Application\\n\")\n",
    "print(\"=\"*70 + \"\\n\")\n",
    "print(f\"Counter file: {counter_file}\\n\")\n",
    "\n",
    "# Initialize counter (first use)\n",
    "print(\"Step 1: Initialize counter\")\n",
    "response = client.chat(\n",
    "    f\"Check if {counter_file} exists. If not, create it with value '0'. \"\n",
    "    f\"If it exists, read its current value.\"\n",
    ")\n",
    "print(response)\n",
    "print()\n",
    "\n",
    "# Increment by 5\n",
    "print(\"Step 2: Increment by 5\")\n",
    "response = client.chat(\n",
    "    f\"Read the number from {counter_file}, add 5 to it, \"\n",
    "    f\"save the new value back to the file, and tell me both the old and new values.\"\n",
    ")\n",
    "print(response)\n",
    "print()\n",
    "\n",
    "# Increment by 10\n",
    "print(\"Step 3: Increment by 10\")\n",
    "response = client.chat(\n",
    "    f\"Read the number from {counter_file}, add 10 to it, \"\n",
    "    f\"save the new value back to the file, and tell me both the old and new values.\"\n",
    ")\n",
    "print(response)\n",
    "print()\n",
    "\n",
    "# Increment by 3\n",
    "print(\"Step 4: Increment by 3\")\n",
    "response = client.chat(\n",
    "    f\"Read the number from {counter_file}, add 3 to it, \"\n",
    "    f\"save the new value back to the file, and tell me both the old and new values.\"\n",
    ")\n",
    "print(response)\n",
    "print()\n",
    "\n",
    "# Final check\n",
    "print(\"Step 5: Verify final value\")\n",
    "response = client.chat(f\"What is the current value in {counter_file}?\")\n",
    "print(response)\n",
    "print()\n",
    "\n",
    "print(\"=\"*70)\n",
    "print(\"\\n✅ Counter successfully persisted across multiple operations!\")\n",
    "print(f\"   Expected final value: 18 (0 + 5 + 10 + 3)\")\n",
    "```\n",
    "</details>"
   ]
  },
  {
   "cell_type": "code",
   "execution_count": null,
   "metadata": {},
   "outputs": [],
   "source": [
    "# Solution cell (run this to see the answer)\n",
    "counter_file = os.path.join(temp_dir, \"counter.txt\")\n",
    "\n",
    "print(\"🔢 File-Based Counter Application\\n\")\n",
    "print(\"=\"*70 + \"\\n\")\n",
    "print(f\"Counter file: {counter_file}\\n\")\n",
    "\n",
    "# Initialize\n",
    "print(\"Step 1: Initialize counter\")\n",
    "response = client.chat(\n",
    "    f\"Check if {counter_file} exists. If not, create it with value '0'. \"\n",
    "    f\"If it exists, read its current value.\"\n",
    ")\n",
    "print(response)\n",
    "print()\n",
    "\n",
    "# Increment by 5\n",
    "print(\"Step 2: Increment by 5\")\n",
    "response = client.chat(\n",
    "    f\"Read the number from {counter_file}, add 5 to it, \"\n",
    "    f\"save the new value back to the file, and tell me both the old and new values.\"\n",
    ")\n",
    "print(response)\n",
    "print()\n",
    "\n",
    "# Increment by 10\n",
    "print(\"Step 3: Increment by 10\")\n",
    "response = client.chat(\n",
    "    f\"Read the number from {counter_file}, add 10 to it, \"\n",
    "    f\"save the new value back to the file, and tell me both the old and new values.\"\n",
    ")\n",
    "print(response)\n",
    "print()\n",
    "\n",
    "# Increment by 3\n",
    "print(\"Step 4: Increment by 3\")\n",
    "response = client.chat(\n",
    "    f\"Read the number from {counter_file}, add 3 to it, \"\n",
    "    f\"save the new value back to the file, and tell me both the old and new values.\"\n",
    ")\n",
    "print(response)\n",
    "print()\n",
    "\n",
    "# Final check\n",
    "print(\"Step 5: Verify final value\")\n",
    "response = client.chat(f\"What is the current value in {counter_file}?\")\n",
    "print(response)\n",
    "print()\n",
    "\n",
    "print(\"=\"*70)\n",
    "print(\"\\n✅ Counter successfully persisted across multiple operations!\")\n",
    "print(f\"   Expected final value: 18 (0 + 5 + 10 + 3)\")"
   ]
  },
  {
   "cell_type": "markdown",
   "metadata": {},
   "source": [
    "## 🧹 Cleanup\n",
    "\n",
    "Let's clean up our temporary directory:"
   ]
  },
  {
   "cell_type": "code",
   "execution_count": null,
   "metadata": {},
   "outputs": [],
   "source": [
    "import shutil\n",
    "\n",
    "# Remove temporary directory\n",
    "shutil.rmtree(temp_dir)\n",
    "print(f\"✅ Cleaned up temporary directory: {temp_dir}\")"
   ]
  },
  {
   "cell_type": "markdown",
   "metadata": {},
   "source": [
    "## ⚠️ Common Pitfalls\n",
    "\n",
    "### 1. Executing Unsafe Code\n",
    "```python\n",
    "# ❌ DANGEROUS: Never execute untrusted code\n",
    "user_code = input(\"Enter code: \")  # User could enter malicious code!\n",
    "response = client.chat(f\"Execute this Python: {user_code}\")\n",
    "\n",
    "# ✅ Good: Validate and sanitize, or use sandboxing\n",
    "# In production, use restricted execution environments\n",
    "```\n",
    "\n",
    "### 2. Using Relative Paths\n",
    "```python\n",
    "# ⚠️ Warning: Relative paths depend on working directory\n",
    "response = client.chat(\"Read myfile.txt\")  # Where is myfile.txt?\n",
    "\n",
    "# ✅ Good: Use absolute paths\n",
    "import os\n",
    "file_path = os.path.abspath(\"myfile.txt\")\n",
    "response = client.chat(f\"Read {file_path}\")\n",
    "```\n",
    "\n",
    "### 3. Not Handling File Errors\n",
    "```python\n",
    "# ❌ Bad: Assuming file exists\n",
    "response = client.chat(f\"Read {nonexistent_file}\")\n",
    "# Will error if file doesn't exist\n",
    "\n",
    "# ✅ Good: Check existence first or handle errors\n",
    "response = client.chat(\n",
    "    f\"Check if {file_path} exists. If yes, read it. If no, say file not found.\"\n",
    ")\n",
    "```\n",
    "\n",
    "### 4. Forgetting About Permissions\n",
    "```python\n",
    "# ⚠️ Warning: May not have write permissions\n",
    "response = client.chat(\"Write to /root/protected.txt\")\n",
    "# Could fail due to permissions\n",
    "\n",
    "# ✅ Good: Use directories you own\n",
    "import tempfile\n",
    "temp_dir = tempfile.mkdtemp()\n",
    "response = client.chat(f\"Write to {temp_dir}/file.txt\")\n",
    "```\n",
    "\n",
    "### 5. Mixing Concerns\n",
    "```python\n",
    "# ⚠️ Suboptimal: Using execute_python for file I/O\n",
    "response = client.chat(\n",
    "    \"Use Python to open 'data.txt', read it, and print contents\"\n",
    ")\n",
    "# Works, but filesystem_operation is designed for this\n",
    "\n",
    "# ✅ Better: Use the right tool for the job\n",
    "response = client.chat(\"Read the file 'data.txt'\")\n",
    "# filesystem_operation handles this directly\n",
    "```"
   ]
  },
  {
   "cell_type": "markdown",
   "metadata": {},
   "source": [
    "## 🎓 What You Learned\n",
    "\n",
    "✅ **execute_python**: Run Python code dynamically for computations\n",
    "\n",
    "✅ **filesystem_operation**: Read, write, list files for I/O operations\n",
    "\n",
    "✅ **Tool Separation**: Use execute_python for compute, filesystem_operation for I/O\n",
    "\n",
    "✅ **Working Directories**: Understand absolute vs relative paths\n",
    "\n",
    "✅ **Combining Tools**: Chain computation and storage for complete workflows\n",
    "\n",
    "✅ **Security**: Be aware of code execution risks\n",
    "\n",
    "✅ **Error Handling**: Check file existence, handle permissions\n",
    "\n",
    "✅ **Best Practices**: Use absolute paths, validate inputs, choose appropriate tools"
   ]
  },
  {
   "cell_type": "markdown",
   "metadata": {},
   "source": [
    "## 🎉 Congratulations!\n",
    "\n",
    "You've completed the core tutorial series for the Local LLM SDK!\n",
    "\n",
    "### What You've Mastered:\n",
    "\n",
    "1. **Basic Chat**: Simple interactions, system prompts, temperature control\n",
    "2. **Conversation History**: Multi-turn conversations with context\n",
    "3. **Built-in Tools**: Using pre-made tools (calculator, text transformer, etc.)\n",
    "4. **Custom Tools**: Creating your own tools with the @tool decorator\n",
    "5. **Filesystem & Code**: Executing Python and managing files\n",
    "\n",
    "### 🚀 What's Next?\n",
    "\n",
    "Now that you have the foundations, you can:\n",
    "\n",
    "**Build Real Applications:**\n",
    "- Create a chatbot with tool capabilities\n",
    "- Build a data analysis assistant\n",
    "- Make an automation tool for repetitive tasks\n",
    "- Develop a coding helper that executes and tests code\n",
    "\n",
    "**Explore Advanced Topics:**\n",
    "- Streaming responses for real-time output\n",
    "- Error handling and retry logic\n",
    "- Tool chaining for complex workflows\n",
    "- Integration with external APIs and services\n",
    "- Production deployment and security\n",
    "\n",
    "**Check Out the SDK Documentation:**\n",
    "- [README.md](../README.md) - Project overview and quick start\n",
    "- [local_llm_sdk/](../local_llm_sdk/) - Source code with detailed docstrings\n",
    "- `.documentation/` - Research and API comparisons\n",
    "\n",
    "### 💬 Questions or Issues?\n",
    "\n",
    "If you encounter any problems or have questions:\n",
    "1. Check the SDK source code for implementation details\n",
    "2. Review the documentation in `.documentation/`\n",
    "3. Test with LM Studio server logs for debugging\n",
    "4. Experiment in these notebooks to understand behavior\n",
    "\n",
    "### 🌟 Keep Learning!\n",
    "\n",
    "The best way to master the SDK is to build something. Start small, experiment often, and gradually increase complexity.\n",
    "\n",
    "Happy coding with Local LLM SDK!"
   ]
  }
 ],
 "metadata": {
  "kernelspec": {
   "display_name": "Python 3",
   "language": "python",
   "name": "python3"
  },
  "language_info": {
   "codemirror_mode": {
    "name": "ipython",
    "version": 3
   },
   "file_extension": ".py",
   "mimetype": "text/x-python",
   "name": "python",
   "nbconvert_exporter": "python",
   "pygments_lexer": "ipython3",
   "version": "3.9.12"
  }
 },
 "nbformat": 4,
 "nbformat_minor": 4
}