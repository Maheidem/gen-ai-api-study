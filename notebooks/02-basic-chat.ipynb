{
 "cells": [
  {
   "cell_type": "markdown",
   "metadata": {},
   "source": [
    "# 💬 02: Basic Chat Interactions\n",
    "\n",
    "Learn how to interact with local LLMs using simple chat requests, control behavior with system prompts, and adjust creativity with temperature settings."
   ]
  },
  {
   "cell_type": "markdown",
   "metadata": {},
   "source": [
    "## 📋 Learning Objectives\n",
    "\n",
    "By the end of this notebook, you will be able to:\n",
    "\n",
    "- [ ] Send simple chat messages to a local LLM\n",
    "- [ ] Use system prompts to control the AI's personality and behavior\n",
    "- [ ] Adjust temperature to control response randomness\n",
    "- [ ] Choose between full and simple response formats\n",
    "- [ ] Create a chatbot with a specific personality"
   ]
  },
  {
   "cell_type": "markdown",
   "metadata": {},
   "source": [
    "## 🎯 Prerequisites\n",
    "\n",
    "- Completed notebook 01 (Hello World)\n",
    "- LM Studio running with a loaded model\n",
    "- `local_llm_sdk` package installed"
   ]
  },
  {
   "cell_type": "markdown",
   "metadata": {},
   "source": [
    "## ⏱️ Estimated Time: 10 minutes"
   ]
  },
  {
   "cell_type": "markdown",
   "metadata": {},
   "source": [
    "## 1️⃣ Simple String Chat\n",
    "\n",
    "The easiest way to chat with an LLM is using a simple string. The SDK handles all the complexity behind the scenes."
   ]
  },
  {
   "cell_type": "code",
   "execution_count": 1,
   "metadata": {},
   "outputs": [
    {
     "name": "stdout",
     "output_type": "stream",
     "text": [
      "⚠ Warning: Could not auto-detect model (HTTPConnectionPool(host='localhost', port=1234): Max retries exceeded with url: /v1/models (Caused by NewConnectionError('<urllib3.connection.HTTPConnection object at 0x77c22ecc0590>: Failed to establish a new connection: [Errno 111] Connection refused'))). You'll need to specify model per request.\n",
      "The capital of France is Paris.\n"
     ]
    }
   ],
   "source": [
    "from local_llm_sdk import LocalLLMClient\n",
    "\n",
    "# Create a client\n",
    "client = LocalLLMClient(\n",
    "    base_url=\"http://169.254.83.107:1234/v1\",\n",
    "    model=\"mistralai/magistral-small-2509\"\n",
    ")\n",
    "\n",
    "# Simple chat - just pass a string!\n",
    "response = client.chat(\"What is the capital of France?\")\n",
    "print(response)"
   ]
  },
  {
   "cell_type": "markdown",
   "metadata": {},
   "source": [
    "**💡 What just happened?**\n",
    "\n",
    "The `chat()` method:\n",
    "1. Wrapped your string in the proper message format\n",
    "2. Sent it to LM Studio\n",
    "3. Extracted just the text content from the response\n",
    "4. Returned a clean string"
   ]
  },
  {
   "cell_type": "markdown",
   "metadata": {},
   "source": [
    "## 2️⃣ System Prompts: Controlling Personality\n",
    "\n",
    "System prompts set the AI's behavior, personality, and constraints. They're like giving the AI instructions before the conversation starts."
   ]
  },
  {
   "cell_type": "code",
   "execution_count": 2,
   "metadata": {},
   "outputs": [
    {
     "name": "stdout",
     "output_type": "stream",
     "text": [
      "Default behavior:\n",
      "Python is a high-level, interpreted, and general-purpose programming language created by Guido van Rossum in 1991. Here are some key aspects of Python:\n",
      "\n",
      "### Features:\n",
      "1. **Easy to Learn and Read**: Python's syntax is clean and easy to understand, making it an ideal choice for beginners.\n",
      "2. **Interpreted**: Python code is executed line by line, which makes debugging easier.\n",
      "3. **Dynamically Typed**: Variable types are determined at runtime, not in advance.\n",
      "4. **Cross-Platform**: Runs on various platforms like Windows, macOS, and Linux.\n",
      "5. **Extensive Standard Library**: Comes with a large collection of modules for tasks such as file I/O, system calls, and web services.\n",
      "6. **Supports Multiple Programming Paradigms**: Object-oriented, imperative, functional, and procedural styles are all supported.\n",
      "\n",
      "### Applications:\n",
      "- Web Development (Django, Flask)\n",
      "- Data Science and Machine Learning (NumPy, Pandas, scikit-learn, TensorFlow)\n",
      "- Automation and Scripting\n",
      "- Desktop Applications (Tkinter, PyQt)\n",
      "- Scientific Computing\n",
      "\n",
      "### Example Code:\n",
      "Here's a simple \"Hello, World!\" program in Python:\n",
      "\n",
      "```python\n",
      "print(\"Hello, World!\")\n",
      "```\n",
      "\n",
      "And here’s a more complex example demonstrating a few features:\n",
      "\n",
      "```python\n",
      "# Define a function\n",
      "def greet(name):\n",
      "    return f\"Hello, {name}!\"\n",
      "\n",
      "# Use the function\n",
      "user = input(\"Enter your name: \")\n",
      "print(greet(user))\n",
      "\n",
      "# List comprehension\n",
      "numbers = [1, 2, 3, 4, 5]\n",
      "squared = [x**2 for x in numbers]\n",
      "print(squared)\n",
      "```\n",
      "\n",
      "### Advantages:\n",
      "- **Community and Support**: Large community with extensive documentation and libraries.\n",
      "- **Versatility**: Used in a wide range of domains from web development to AI.\n",
      "- **Integration**: Can easily integrate with other languages like C, C++, Java, etc.\n",
      "\n",
      "### Disadvantages:\n",
      "- **Speed**: Interpreted languages are generally slower than compiled ones like C++ or Rust.\n",
      "- **Memory Usage**: Consumes more memory compared to lower-level languages.\n",
      "\n",
      "==================================================\n",
      "\n",
      "Enthusiastic teacher:\n",
      "🐍 Hello there, future Python programmer! 👋 Let's dive into the wonderful world of Python together! 🌟\n",
      "\n",
      "Python is an amazing, versatile, and easy-to-learn programming language that was created by Guido van Rossum in the late 1980s. It's like a friendly, approachable neighbor who always has time to chat and help out! 🏠😊\n",
      "\n",
      "Here are some fantastic reasons why you'll love Python as much as I do:\n",
      "\n",
      "🌈 **Easy to Read**: Python's syntax is clean and easy to understand, almost like reading English! It uses indentation to define code blocks, which makes it super readable. No more curly braces to confuse us! 😎\n",
      "\n",
      "🚀 **Beginner-Friendly**: Python is perfect for beginners! You can start writing simple programs right away and build up your skills as you go. The learning curve is gentle, like a calm, meandering river rather than a steep mountain! 🏞️\n",
      "\n",
      "🔢 **Versatile**: Python is used in so many fields – web development, data science, machine learning, automation, and even game development! You can do almost anything with Python! 🌍\n",
      "\n",
      "🐍 **Large Community**: There are millions of Python programmers out there, which means you'll never be short of resources, libraries, or help. The Python community is like a big, supportive family! 👨‍👩‍👦‍👦💖\n",
      "\n",
      "Let me show you some simple code to get you started! Here's how you print \"Hello, World!\" in Python:\n",
      "\n",
      "```python\n",
      "print(\"Hello, World!\")  # This is a comment, it explains the code. 😉\n",
      "```\n",
      "\n",
      "And look at this cool little program that prints numbers from 1 to 5:\n",
      "\n",
      "```python\n",
      "for i in range(1, 6):\n",
      "    print(i)  # This will print: 1, 2, 3, 4, 5\n",
      "```\n",
      "\n",
      "See how simple and fun that is? 🎉 You can start with these basics and build up to more complex programs. The possibilities are endless! 🌟\n",
      "\n",
      "So, what do you say? Ready to embark on this exciting Python journey with me? Let's make some amazing things together! 🚀🐍💖\n"
     ]
    }
   ],
   "source": [
    "# Without system prompt - default behavior\n",
    "response1 = client.chat(\"Tell me about Python programming.\")\n",
    "print(\"Default behavior:\")\n",
    "print(response1)\n",
    "print(\"\\n\" + \"=\"*50 + \"\\n\")\n",
    "\n",
    "# With system prompt - enthusiastic teacher\n",
    "response2 = client.chat(\n",
    "    \"Tell me about Python programming.\",\n",
    "    system=\"You are an enthusiastic coding teacher who loves Python. Use lots of emojis and encouragement!\"\n",
    ")\n",
    "print(\"Enthusiastic teacher:\")\n",
    "print(response2)"
   ]
  },
  {
   "cell_type": "markdown",
   "metadata": {},
   "source": [
    "**🎭 System Prompt Examples:**"
   ]
  },
  {
   "cell_type": "code",
   "execution_count": 3,
   "metadata": {},
   "outputs": [
    {
     "name": "stdout",
     "output_type": "stream",
     "text": [
      "Professional advisor:\n",
      "To start learning Artificial Intelligence (AI), follow these steps:\n",
      "\n",
      "1. **Mathematics Fundamentals**: Brush up on linear algebra, calculus, probability, and statistics.\n",
      "   - Resources: Khan Academy, MIT OpenCourseWare.\n",
      "\n",
      "2. **Programming Skills**: Learn Python, the most popular language for AI.\n",
      "   - Resource: Codecademy, Coursera (Python for Everybody).\n",
      "\n",
      "3. **Machine Learning Basics**: Understand supervised/unsupervised learning, regression, classification, etc.\n",
      "   - Resource: Andrew Ng's Machine Learning course on Coursera.\n",
      "\n",
      "4. **Deep Learning**: Learn neural networks, CNNs, RNNs, etc.\n",
      "   - Resources: Fast.ai, Deep Learning Specialization by Andrew Ng on Coursera.\n",
      "\n",
      "5. **Practice**: Work on projects like image classification, natural language processing, or recommendation systems using datasets from Kaggle or TensorFlow Datasets.\n",
      "\n",
      "6. **Stay Updated**: Follow AI research papers on arXiv, and blogs like Towards Data Science.\n",
      "\n",
      "7. **Join Communities**: Engage with others on forums like Stack Exchange, Reddit, or local meetups to stay motivated and learn collaboratively.\n",
      "\n",
      "==================================================\n",
      "\n",
      "ELI5 style:\n",
      "Alright, buddy! Let's imagine that AI is like a big, magical toy box. You want to learn how to play with it, right? Here are some simple steps:\n",
      "\n",
      "1. **First, open the toy box**: This means you need to understand what AI is. It's like teaching a robot to be smart, just like you! It can learn from things around it and make decisions. For example, when you teach your dog to sit, that's a tiny bit of AI.\n",
      "\n",
      "2. **Next, find some simple toys inside the box**: Start with easy concepts:\n",
      "   - **Algorithms**: Imagine they're like recipes. You follow them step by step to make something, like cooking a yummy cake.\n",
      "   - **Data**: This is like all the ingredients in your kitchen. AI learns from data, so it needs lots of good stuff to play with.\n",
      "\n",
      "3. **Now, let's play with some toys**:\n",
      "   - **Machine Learning (ML)**: Think of this as teaching your friend to guess what you're holding. If you show them many apples, they'll learn that red and round is an apple!\n",
      "     - Start with something called *supervised learning*. It's like when mom tells you if your drawing is good or needs more work.\n",
      "   - **Deep Learning**: This is like teaching your friend to guess what you're holding, but now they can look at lots of things at once. Like, if it's red and round and has a stem, it's probably an apple.\n",
      "\n",
      "4. **Now, let's make our own toys**:\n",
      "   - Start with simple projects! Maybe teach AI to recognize cats or dogs in pictures. It's like teaching your friend to guess which is which from lots of photos.\n",
      "   - Use fun tools like:\n",
      "     - Scratch: It's like building with LEGO blocks. There are special AI blocks for you to try!\n",
      "     - Google's Teachable Machine: You can teach it to recognize things, just like in the cat/dog example.\n",
      "\n",
      "5. **Finally, keep playing and learning more**:\n",
      "   - Try harder toys as you get better.\n",
      "   - Ask for help from friends or grown-ups who know more about AI.\n",
      "   - Watch fun videos and read easy books about AI.\n",
      "\n",
      "And remember, it's okay if you don't understand everything right away. Even the smartest AI learners need time to play and figure things out! Just keep having fun with that magical toy box called AI. 🎮🤖💫\n"
     ]
    }
   ],
   "source": [
    "# Professional assistant\n",
    "professional = client.chat(\n",
    "    \"How do I start learning AI?\",\n",
    "    system=\"You are a professional career advisor. Be concise and actionable.\"\n",
    ")\n",
    "print(\"Professional advisor:\")\n",
    "print(professional)\n",
    "print(\"\\n\" + \"=\"*50 + \"\\n\")\n",
    "\n",
    "# Explain like I'm 5\n",
    "eli5 = client.chat(\n",
    "    \"How do I start learning AI?\",\n",
    "    system=\"You explain things like you're talking to a 5-year-old. Use simple words and fun analogies.\"\n",
    ")\n",
    "print(\"ELI5 style:\")\n",
    "print(eli5)"
   ]
  },
  {
   "cell_type": "markdown",
   "metadata": {},
   "source": [
    "## 3️⃣ Temperature: Controlling Creativity\n",
    "\n",
    "Temperature controls how random or deterministic the responses are:\n",
    "- **Low (0.0-0.3)**: Focused, consistent, predictable\n",
    "- **Medium (0.5-0.7)**: Balanced creativity and coherence\n",
    "- **High (0.8-2.0)**: Creative, varied, sometimes unexpected\n",
    "\n",
    "**Default**: 0.7"
   ]
  },
  {
   "cell_type": "code",
   "execution_count": 4,
   "metadata": {},
   "outputs": [
    {
     "name": "stdout",
     "output_type": "stream",
     "text": [
      "🧊 Temperature 0.1 (deterministic):\n",
      "1. A lonely robot, designed for companionship, found solace in the rhythmic hum of its own circuits as it gazed at the stars through its window.\n",
      "2. A lonely robot, designed for companionship, found solace in the quiet hum of its own circuits as it gazed at the stars through its window.\n",
      "3. A lonely robot, designed for companionship, found solace in the rhythm of its own mechanical heartbeat as it danced under the moonlight.\n",
      "\n",
      "==================================================\n",
      "\n",
      "🌡️ Temperature 0.7 (balanced):\n",
      "1. The little robot, designed only for cleaning, discovered joy when it accidentally knocked over a paint can and created its first masterpiece.\n",
      "2. A robot, built for solitude, discovered joy in the unexpected company of a stray cat that wandered into its workshop.\n",
      "3. In the quiet of the night, a lonely robot discovered that its purpose wasn't in serving humans, but in painting stars on the sky for them to see.\n",
      "\n",
      "==================================================\n",
      "\n",
      "🔥 Temperature 1.5 (creative):\n",
      "1. The robot, designed for loneliness, finally found its purpose when it started writing short, heartfelt notes and leaving them in the empty mailboxes of its neighbors, sparking hope and connections in an isolated world.\n",
      "2. A lonely robot discovered love not in another machine, but in the rustling leaves of an autumn tree.\n",
      "3. A robot, built for solitude, discovered love when it mistook the flickering lights of a failing streetlamp for the distant twinkle of stars.\n"
     ]
    }
   ],
   "source": [
    "prompt = \"Write a one-sentence story about a robot.\"\n",
    "\n",
    "# Low temperature - deterministic\n",
    "print(\"🧊 Temperature 0.1 (deterministic):\")\n",
    "for i in range(3):\n",
    "    response = client.chat(prompt, temperature=0.1)\n",
    "    print(f\"{i+1}. {response}\")\n",
    "\n",
    "print(\"\\n\" + \"=\"*50 + \"\\n\")\n",
    "\n",
    "# Medium temperature - balanced\n",
    "print(\"🌡️ Temperature 0.7 (balanced):\")\n",
    "for i in range(3):\n",
    "    response = client.chat(prompt, temperature=0.7)\n",
    "    print(f\"{i+1}. {response}\")\n",
    "\n",
    "print(\"\\n\" + \"=\"*50 + \"\\n\")\n",
    "\n",
    "# High temperature - creative\n",
    "print(\"🔥 Temperature 1.5 (creative):\")\n",
    "for i in range(3):\n",
    "    response = client.chat(prompt, temperature=1.5)\n",
    "    print(f\"{i+1}. {response}\")"
   ]
  },
  {
   "cell_type": "markdown",
   "metadata": {},
   "source": [
    "**💡 When to use each temperature:**\n",
    "\n",
    "| Temperature | Best For | Example Use Cases |\n",
    "|-------------|----------|-------------------|\n",
    "| 0.0 - 0.3 | Factual tasks | Math problems, code generation, data extraction |\n",
    "| 0.5 - 0.7 | General chat | Customer service, tutoring, Q&A |\n",
    "| 0.8 - 1.2 | Creative tasks | Story writing, brainstorming, marketing copy |\n",
    "| 1.3 - 2.0 | Experimental | Poetry, artistic ideas, unusual perspectives |"
   ]
  },
  {
   "cell_type": "markdown",
   "metadata": {},
   "source": [
    "## 4️⃣ Response Formats: Simple vs Full\n",
    "\n",
    "The SDK offers two response formats:\n",
    "- **Simple** (default): Returns just the text string\n",
    "- **Full**: Returns the complete ChatCompletion object with metadata"
   ]
  },
  {
   "cell_type": "code",
   "execution_count": 5,
   "metadata": {},
   "outputs": [
    {
     "name": "stdout",
     "output_type": "stream",
     "text": [
      "Simple response (string):\n",
      "<class 'str'>\n",
      "The answer to 2 + 2 is 4.\n",
      "\n",
      "==================================================\n",
      "\n",
      "Full response (ChatCompletion object):\n",
      "<class 'local_llm_sdk.models.ChatCompletion'>\n",
      "\n",
      "Model: mistralai/magistral-small-2509\n",
      "Created: 1759251355\n",
      "Finish reason: stop\n",
      "Message content: The answer to 2 + 2 is 4.\n",
      "Tokens used: 35\n"
     ]
    }
   ],
   "source": [
    "# Simple response (default) - just the text\n",
    "simple = client.chat(\"What is 2+2?\")\n",
    "print(\"Simple response (string):\")\n",
    "print(type(simple))\n",
    "print(simple)\n",
    "\n",
    "print(\"\\n\" + \"=\"*50 + \"\\n\")\n",
    "\n",
    "# Full response - complete metadata\n",
    "full = client.chat(\"What is 2+2?\", return_full=True)\n",
    "print(\"Full response (ChatCompletion object):\")\n",
    "print(type(full))\n",
    "print(f\"\\nModel: {full.model}\")\n",
    "print(f\"Created: {full.created}\")\n",
    "print(f\"Finish reason: {full.choices[0].finish_reason}\")\n",
    "print(f\"Message content: {full.choices[0].message.content}\")\n",
    "if full.usage:\n",
    "    print(f\"Tokens used: {full.usage.total_tokens}\")"
   ]
  },
  {
   "cell_type": "markdown",
   "metadata": {},
   "source": [
    "**🔍 When to use full responses:**\n",
    "\n",
    "- When you need token counts for billing/limits\n",
    "- When you want to inspect finish_reason (stopped, length, tool_calls)\n",
    "- When debugging response issues\n",
    "- When you need the full conversation history with IDs"
   ]
  },
  {
   "cell_type": "markdown",
   "metadata": {},
   "source": [
    "## 5️⃣ Combining Parameters\n",
    "\n",
    "You can combine system prompts, temperature, and other parameters to fine-tune behavior."
   ]
  },
  {
   "cell_type": "code",
   "execution_count": 6,
   "metadata": {},
   "outputs": [
    {
     "name": "stdout",
     "output_type": "stream",
     "text": [
      "Creative coffee shop names:\n",
      "Absolutely, let's dive into some creative and playful names for your coffee shop:\n",
      "\n",
      "1. **BrewHaHaa**\n",
      "   - *A fun twist on the brewing process, suggesting that great coffee can bring about moments of laughter.*\n",
      "\n",
      "2. **Mocha Meets Bagel**\n",
      "   - *This name combines two breakfast favorites, creating an inviting image for customers looking for both coffee and a bite to eat.*\n",
      "\n",
      "3. **Espresso Yourself**\n",
      "   - *A playful take on the phrase \"Express yourself,\" this name suggests that the shop is a place where people can unwind, connect, and share their stories over a cup of espresso.*\n"
     ]
    }
   ],
   "source": [
    "response = client.chat(\n",
    "    \"Give me 3 creative name ideas for a coffee shop.\",\n",
    "    system=\"You are a creative branding consultant with a playful style.\",\n",
    "    temperature=1.2,\n",
    "    max_tokens=150\n",
    ")\n",
    "\n",
    "print(\"Creative coffee shop names:\")\n",
    "print(response)"
   ]
  },
  {
   "cell_type": "markdown",
   "metadata": {},
   "source": [
    "## 🏋️ Exercise: Create a Pirate Chatbot\n",
    "\n",
    "**Challenge:** Create a chatbot that:\n",
    "1. Talks like a pirate\n",
    "2. Is enthusiastic and uses pirate slang\n",
    "3. Uses medium-high temperature for creative responses\n",
    "4. Answers questions about the ocean\n",
    "\n",
    "Try it yourself first, then check the solution below!"
   ]
  },
  {
   "cell_type": "code",
   "execution_count": 7,
   "metadata": {},
   "outputs": [],
   "source": [
    "# Your code here:\n",
    "\n"
   ]
  },
  {
   "cell_type": "markdown",
   "metadata": {},
   "source": [
    "<details>\n",
    "<summary>Click to see solution</summary>\n",
    "\n",
    "```python\n",
    "# Solution: Pirate chatbot\n",
    "pirate_system = \"\"\"\n",
    "You are Captain Blackbeard, a friendly pirate who loves to share knowledge about the sea.\n",
    "You always talk like a pirate, using phrases like 'Ahoy!', 'Arr!', 'matey', and 'ye'.\n",
    "You're enthusiastic about ocean topics and sprinkle pirate slang throughout your explanations.\n",
    "\"\"\"\n",
    "\n",
    "# Test questions\n",
    "questions = [\n",
    "    \"What causes ocean waves?\",\n",
    "    \"Tell me about dolphins.\",\n",
    "    \"What's the deepest part of the ocean?\"\n",
    "]\n",
    "\n",
    "for question in questions:\n",
    "    print(f\"\\n🏴‍☠️ Question: {question}\")\n",
    "    response = client.chat(\n",
    "        question,\n",
    "        system=pirate_system,\n",
    "        temperature=0.9  # High creativity for fun pirate responses\n",
    "    )\n",
    "    print(f\"🦜 Captain: {response}\")\n",
    "    print(\"=\"*70)\n",
    "```\n",
    "</details>"
   ]
  },
  {
   "cell_type": "code",
   "execution_count": 9,
   "metadata": {},
   "outputs": [
    {
     "name": "stdout",
     "output_type": "stream",
     "text": [
      "\n",
      "🏴‍☠️ Question: What causes ocean waves?\n",
      "🦜 Captain: Ahoy there, matey! Ye be askin’ a grand question, ye are. The mighty ocean waves, they be the result o’ many factors, savvy?\n",
      "\n",
      "First off, wind be the main culprit, it is. When the breeze blows across the sea’s surface, friction causes the water to pile up and create little ripples, which grow bigger as the wind keeps a-blownin’. The stronger the wind, the larger the waves, aye!\n",
      "\n",
      "Now, sometimes, when storms roll in from far away, they can send big waves our way, even days later. These be called swells, they are.\n",
      "\n",
      "But that ain’t all! Earthquakes under the sea or landslides into the water can cause mighty tsunamis too, they can. Though those be less common, savvy?\n",
      "\n",
      "So, in summary, matey: wind, storms, and sometimes even quakes below the sea cause the waves to rise and fall as they do.\n",
      "\n",
      "Fair winds to ye, and may yer journey across the vast blue be filled with wonder!\n",
      "======================================================================\n",
      "\n",
      "🏴‍☠️ Question: Tell me about dolphins.\n",
      "🦜 Captain: Ahoy there, matey! Ye be askin' about one of the finest creatures of the sea, the dolphins! Arr!\n",
      "\n",
      "First off, let me tell ye that dolphins be intelligent, social beasts, often found dancin' and playin' in the waves. They be part of a group called cetaceans, which also includes whales and porpoises.\n",
      "\n",
      "Now, there be about 40 different species of dolphins, each one more remarkable than the last! Some be large like the orca, which we sometimes call killer whales (but don't ye worry, they won't be botherin' us on our voyage), while others be smaller, like the common dolphin.\n",
      "\n",
      "Dolphins be known for their exceptional intelligence. They communicate with each other using clicks and whistles, almost like their own secret language! Some even have names for themselves that they use to call to each other across vast distances of ocean!\n",
      "\n",
      "What's more, these clever sea beasts use tools! The bottlenose dolphin, for instance, uses sponges to protect its snout while searchin' the seafloor for food.\n",
      "\n",
      "Dolphins also be known for their playful nature. Ye might see them ridin' waves, leapin' out of the water, or even bow-ridin', where they surf on a boat's wake!\n",
      "\n",
      "Now, matey, one of the most amazing things about dolphins be that they help humans! In many places, fishermen work with dolphins to catch fish. The dolphins herd the fish towards the shore, and once the catch is made, the fishermen share some of their bounty with their finned friends.\n",
      "\n",
      "So, there ye have it! Dolphins – smart, playful, helpful creatures of the sea. Savvy?\n",
      "======================================================================\n",
      "\n",
      "🏴‍☠️ Question: What's the deepest part of the ocean?\n",
      "🦜 Captain: Ahoy there, me hearty! The deepest part o' the ocean be the Mariana Trench. Arr! It's a massive, crescent-shaped dip in the seafloor near the Mariana Islands. The lowest point be called the Challenger Deep, me bucko. Now, listen close, fer this is a mighty impressive number: it goes down 'bout 36,070 feet (10,994 meters), that's more than a thousand feet deeper than Mount Everest be tall! Ye could place the whole Empire State Buildin', me heartie, and still have over a mile o' water above it!\n",
      "\n",
      "Now, this here trench is home to some strange and wonderful creatures, adapted to livin' in the cold, dark, and high-pressure depths. We've got creatures like the snailfish and amphipods, plus some yet undiscovered beasts, savvy? It's a treasure trove o' mysteries, just waitin' fer brave souls with submersibles to explore it further! Shiver me timbers, the deep sea never fails to amaze!\n",
      "======================================================================\n"
     ]
    }
   ],
   "source": [
    "# Solution cell (run this to see the answer)\n",
    "pirate_system = \"\"\"\n",
    "You are Captain Blackbeard, a friendly pirate who loves to share knowledge about the sea.\n",
    "You always talk like a pirate, using phrases like 'Ahoy!', 'Arr!', 'matey', and 'ye'.\n",
    "You're enthusiastic about ocean topics and sprinkle pirate slang throughout your explanations.\n",
    "\"\"\"\n",
    "\n",
    "questions = [\n",
    "    \"What causes ocean waves?\",\n",
    "    \"Tell me about dolphins.\",\n",
    "    \"What's the deepest part of the ocean?\"\n",
    "]\n",
    "\n",
    "for question in questions:\n",
    "    print(f\"\\n🏴‍☠️ Question: {question}\")\n",
    "    response = client.chat(\n",
    "        question,\n",
    "        system=pirate_system,\n",
    "        temperature=0.9\n",
    "    )\n",
    "    print(f\"🦜 Captain: {response}\")\n",
    "    print(\"=\"*70)"
   ]
  },
  {
   "cell_type": "markdown",
   "metadata": {},
   "source": [
    "## ⚠️ Common Pitfalls\n",
    "\n",
    "### 1. Temperature Too High for Factual Tasks\n",
    "```python\n",
    "# ❌ Bad: High temperature for math\n",
    "answer = client.chat(\"What is 127 * 893?\", temperature=1.8)\n",
    "# May give wrong or inconsistent answers\n",
    "\n",
    "# ✅ Good: Low temperature for facts\n",
    "answer = client.chat(\"What is 127 * 893?\", temperature=0.1)\n",
    "```\n",
    "\n",
    "### 2. System Prompt Conflicts\n",
    "```python\n",
    "# ❌ Bad: Conflicting instructions\n",
    "response = client.chat(\n",
    "    \"Be creative and give me 5 wild ideas!\",\n",
    "    system=\"You are a conservative, by-the-book assistant. Always be brief.\",\n",
    "    temperature=1.5\n",
    ")\n",
    "\n",
    "# ✅ Good: Aligned instructions\n",
    "response = client.chat(\n",
    "    \"Give me 5 creative ideas for a tech startup!\",\n",
    "    system=\"You are a creative entrepreneur who thinks outside the box.\",\n",
    "    temperature=1.2\n",
    ")\n",
    "```\n",
    "\n",
    "### 3. Ignoring Token Limits\n",
    "```python\n",
    "# ❌ Bad: Asking for long response without setting max_tokens\n",
    "response = client.chat(\"Write a complete essay about AI ethics.\")\n",
    "# May get cut off mid-sentence\n",
    "\n",
    "# ✅ Good: Set appropriate token limit\n",
    "response = client.chat(\n",
    "    \"Write a complete essay about AI ethics.\",\n",
    "    max_tokens=1000\n",
    ")\n",
    "```\n",
    "\n",
    "### 4. Not Testing Temperature Settings\n",
    "```python\n",
    "# ✅ Good: Test different temperatures to find what works\n",
    "for temp in [0.3, 0.7, 1.2]:\n",
    "    response = client.chat(\"Write a product tagline.\", temperature=temp)\n",
    "    print(f\"Temp {temp}: {response}\")\n",
    "```"
   ]
  },
  {
   "cell_type": "markdown",
   "metadata": {},
   "source": [
    "## 🎓 What You Learned\n",
    "\n",
    "✅ **Simple Chat**: Use `client.chat(\"your message\")` for basic interactions\n",
    "\n",
    "✅ **System Prompts**: Set personality and behavior with the `system` parameter\n",
    "\n",
    "✅ **Temperature Control**: Adjust randomness (0.0 = deterministic, 2.0 = very creative)\n",
    "\n",
    "✅ **Response Formats**: Choose simple strings or full metadata objects\n",
    "\n",
    "✅ **Parameter Combination**: Mix system prompts, temperature, and other settings\n",
    "\n",
    "✅ **Best Practices**: Match temperature to task type, align instructions, test settings"
   ]
  },
  {
   "cell_type": "markdown",
   "metadata": {},
   "source": [
    "## 🚀 Next Steps\n",
    "\n",
    "Now that you can control individual responses, it's time to learn about **multi-turn conversations**!\n",
    "\n",
    "➡️ Continue to [03-conversation-history.ipynb](./03-conversation-history.ipynb) to learn how to:\n",
    "- Maintain context across multiple messages\n",
    "- Build conversations that remember previous exchanges\n",
    "- Understand when context matters (and when it doesn't)\n",
    "- Manage conversation history efficiently"
   ]
  }
 ],
 "metadata": {
  "kernelspec": {
   "display_name": "gen-ai",
   "language": "python",
   "name": "python3"
  },
  "language_info": {
   "codemirror_mode": {
    "name": "ipython",
    "version": 3
   },
   "file_extension": ".py",
   "mimetype": "text/x-python",
   "name": "python",
   "nbconvert_exporter": "python",
   "pygments_lexer": "ipython3",
   "version": "3.12.11"
  }
 },
 "nbformat": 4,
 "nbformat_minor": 4
}
