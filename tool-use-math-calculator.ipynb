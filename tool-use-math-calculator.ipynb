{
 "cells": [
  {
   "cell_type": "markdown",
   "metadata": {},
   "source": [
    "# Tool Use with LM Studio: Math Calculator\n",
    "\n",
    "## Overview\n",
    "This notebook demonstrates function/tool calling capabilities in LM Studio using a simple math calculator as an example.\n",
    "\n",
    "## What is Tool/Function Calling?\n",
    "Tool calling allows the model to request execution of specific functions to get information or perform actions. The model decides when to use a tool based on the user's query.\n",
    "\n",
    "## Prerequisites\n",
    "- LM Studio running with a model that supports function calling\n",
    "- Python with `requests`, `pydantic`, and `json` libraries\n",
    "- The `api_models.py` file in the same directory\n",
    "\n",
    "## ⚠️ Compatibility Note\n",
    "Function calling in LM Studio is **model-dependent** with ~60% compatibility. Models that typically support it:\n",
    "- Mistral models with Instruct versions\n",
    "- Some Llama models\n",
    "- Models specifically fine-tuned for function calling\n",
    "\n",
    "**Test Model**: `mistralai/magistral-small-2509`"
   ]
  },
  {
   "cell_type": "markdown",
   "metadata": {},
   "source": [
    "## 1. Setup and Imports\n",
    "\n",
    "Import necessary libraries and configure the connection to LM Studio."
   ]
  },
  {
   "cell_type": "code",
   "execution_count": 1,
   "metadata": {},
   "outputs": [],
   "source": [
    "# Standard library imports\n",
    "import json\n",
    "import requests\n",
    "from typing import Dict, Any, Optional\n",
    "\n",
    "# Import Pydantic models from our custom module\n",
    "from api_models import (\n",
    "    ChatCompletion,\n",
    "    ChatMessage,\n",
    "    Tool,\n",
    "    Function,\n",
    "    create_chat_message,\n",
    "    create_chat_completion_request\n",
    ")"
   ]
  },
  {
   "cell_type": "code",
   "execution_count": 2,
   "metadata": {},
   "outputs": [
    {
     "name": "stdout",
     "output_type": "stream",
     "text": [
      "🔧 Configuration:\n",
      "  • Base URL: http://169.254.83.107:1234/v1\n",
      "  • Model: mistralai/magistral-small-2509\n"
     ]
    }
   ],
   "source": [
    "# Configure LM Studio connection\n",
    "BASE_URL = \"http://169.254.83.107:1234/v1\"\n",
    "CHAT_ENDPOINT = f\"{BASE_URL}/chat/completions\"\n",
    "\n",
    "# Model to use (must support function calling)\n",
    "MODEL = \"mistralai/magistral-small-2509\"\n",
    "\n",
    "print(f\"🔧 Configuration:\")\n",
    "print(f\"  • Base URL: {BASE_URL}\")\n",
    "print(f\"  • Model: {MODEL}\")"
   ]
  },
  {
   "cell_type": "markdown",
   "metadata": {},
   "source": [
    "## 2. Define the Math Calculator Function\n",
    "\n",
    "Create the actual Python function that will perform calculations."
   ]
  },
  {
   "cell_type": "code",
   "execution_count": 3,
   "metadata": {},
   "outputs": [
    {
     "name": "stdout",
     "output_type": "stream",
     "text": [
      "🧪 Testing math_calculator:\n",
      "  • 10 + 5 = {'success': True, 'expression': '10 + 5', 'result': 15}\n",
      "  • 20 ÷ 4 = {'success': True, 'expression': '20 ÷ 4', 'result': 5.0}\n",
      "  • 5 ÷ 0 = {'success': False, 'error': 'Division by zero is not allowed'}\n"
     ]
    }
   ],
   "source": [
    "def math_calculator(arg1: float, arg2: float, operation: str) -> Dict[str, Any]:\n",
    "    \"\"\"\n",
    "    Perform basic mathematical operations on two numbers.\n",
    "    \n",
    "    Args:\n",
    "        arg1: First number\n",
    "        arg2: Second number\n",
    "        operation: Mathematical operation (add, subtract, multiply, divide)\n",
    "    \n",
    "    Returns:\n",
    "        Dictionary with the result or error message\n",
    "    \"\"\"\n",
    "    try:\n",
    "        if operation == \"add\":\n",
    "            result = arg1 + arg2\n",
    "            expression = f\"{arg1} + {arg2}\"\n",
    "        elif operation == \"subtract\":\n",
    "            result = arg1 - arg2\n",
    "            expression = f\"{arg1} - {arg2}\"\n",
    "        elif operation == \"multiply\":\n",
    "            result = arg1 * arg2\n",
    "            expression = f\"{arg1} × {arg2}\"\n",
    "        elif operation == \"divide\":\n",
    "            if arg2 == 0:\n",
    "                return {\n",
    "                    \"success\": False,\n",
    "                    \"error\": \"Division by zero is not allowed\"\n",
    "                }\n",
    "            result = arg1 / arg2\n",
    "            expression = f\"{arg1} ÷ {arg2}\"\n",
    "        else:\n",
    "            return {\n",
    "                \"success\": False,\n",
    "                \"error\": f\"Unknown operation: {operation}\"\n",
    "            }\n",
    "        \n",
    "        return {\n",
    "            \"success\": True,\n",
    "            \"expression\": expression,\n",
    "            \"result\": result\n",
    "        }\n",
    "    \n",
    "    except Exception as e:\n",
    "        return {\n",
    "            \"success\": False,\n",
    "            \"error\": str(e)\n",
    "        }\n",
    "\n",
    "# Test the function\n",
    "print(\"🧪 Testing math_calculator:\")\n",
    "print(f\"  • 10 + 5 = {math_calculator(10, 5, 'add')}\")\n",
    "print(f\"  • 20 ÷ 4 = {math_calculator(20, 4, 'divide')}\")\n",
    "print(f\"  • 5 ÷ 0 = {math_calculator(5, 0, 'divide')}\")"
   ]
  },
  {
   "cell_type": "markdown",
   "metadata": {},
   "source": [
    "## 3. Define the Tool Schema\n",
    "\n",
    "Create the OpenAI-compatible tool definition that describes our function to the model."
   ]
  },
  {
   "cell_type": "code",
   "execution_count": 5,
   "metadata": {},
   "outputs": [
    {
     "name": "stdout",
     "output_type": "stream",
     "text": [
      "📋 Tool Schema defined:\n",
      "{\n",
      "  \"type\": \"function\",\n",
      "  \"function\": {\n",
      "    \"name\": \"math_calculator\",\n",
      "    \"description\": \"Perform mathematical calculations with two numbers\",\n",
      "    \"parameters\": {\n",
      "      \"type\": \"object\",\n",
      "      \"properties\": {\n",
      "        \"arg1\": {\n",
      "          \"type\": \"number\",\n",
      "          \"description\": \"The first number in the calculation\"\n",
      "        },\n",
      "        \"arg2\": {\n",
      "          \"type\": \"number\",\n",
      "          \"description\": \"The second number in the calculation\"\n",
      "        },\n",
      "        \"operation\": {\n",
      "          \"type\": \"string\",\n",
      "          \"enum\": [\n",
      "            \"add\",\n",
      "            \"subtract\",\n",
      "            \"multiply\",\n",
      "            \"divide\"\n",
      "          ],\n",
      "          \"description\": \"The mathematical operation to perform\"\n",
      "        }\n",
      "      },\n",
      "      \"required\": [\n",
      "        \"arg1\",\n",
      "        \"arg2\",\n",
      "        \"operation\"\n",
      "      ]\n",
      "    }\n",
      "  }\n",
      "}\n"
     ]
    }
   ],
   "source": [
    "# Define the tool schema for the model\n",
    "math_tool_schema = {\n",
    "    \"type\": \"function\",\n",
    "    \"function\": {\n",
    "        \"name\": \"math_calculator\",\n",
    "        \"description\": \"Perform mathematical calculations with two numbers\",\n",
    "        \"parameters\": {\n",
    "            \"type\": \"object\",\n",
    "            \"properties\": {\n",
    "                \"arg1\": {\n",
    "                    \"type\": \"number\",\n",
    "                    \"description\": \"The first number in the calculation\"\n",
    "                },\n",
    "                \"arg2\": {\n",
    "                    \"type\": \"number\",\n",
    "                    \"description\": \"The second number in the calculation\"\n",
    "                },\n",
    "                \"operation\": {\n",
    "                    \"type\": \"string\",\n",
    "                    \"enum\": [\"add\", \"subtract\", \"multiply\", \"divide\"],\n",
    "                    \"description\": \"The mathematical operation to perform\"\n",
    "                }\n",
    "            },\n",
    "            \"required\": [\"arg1\", \"arg2\", \"operation\"]\n",
    "        }\n",
    "    }\n",
    "}\n",
    "\n",
    "# List of all available tools\n",
    "tools = [math_tool_schema]\n",
    "\n",
    "print(\"📋 Tool Schema defined:\")\n",
    "print(json.dumps(math_tool_schema, indent=2))"
   ]
  },
  {
   "cell_type": "markdown",
   "metadata": {},
   "source": [
    "## 4. Helper Function for Tool Calling Workflow\n",
    "\n",
    "Create a helper function that handles the complete tool calling workflow."
   ]
  },
  {
   "cell_type": "code",
   "execution_count": null,
   "metadata": {},
   "outputs": [
    {
     "name": "stdout",
     "output_type": "stream",
     "text": [
      "✅ Helper functions defined\n"
     ]
    }
   ],
   "source": [
    "def execute_tool_call(tool_name: str, arguments: Dict[str, Any]) -> str:\n",
    "    \"\"\"\n",
    "    Execute the requested tool with provided arguments.\n",
    "    \n",
    "    Args:\n",
    "        tool_name: Name of the tool to execute\n",
    "        arguments: Arguments for the tool\n",
    "    \n",
    "    Returns:\n",
    "        JSON string with the result\n",
    "    \"\"\"\n",
    "    if tool_name == \"math_calculator\":\n",
    "        result = math_calculator(\n",
    "            arg1=arguments.get(\"arg1\"),\n",
    "            arg2=arguments.get(\"arg2\"),\n",
    "            operation=arguments.get(\"operation\")\n",
    "        )\n",
    "        return json.dumps(result)\n",
    "    else:\n",
    "        return json.dumps({\"error\": f\"Unknown tool: {tool_name}\"})\n",
    "\n",
    "\n",
    "def chat_with_tools(user_query: str, show_details: bool = True) -> str:\n",
    "    \"\"\"\n",
    "    Send a query to the model with tool support.\n",
    "    \n",
    "    Args:\n",
    "        user_query: The user's question\n",
    "        show_details: Whether to print detailed information\n",
    "    \n",
    "    Returns:\n",
    "        The model's final response\n",
    "    \"\"\"\n",
    "    # Step 1: Initial conversation\n",
    "    messages = [\n",
    "        create_chat_message(\"system\", \"You are a helpful assistant with access to a math calculator tool. Use it when needed to perform calculations.\"),\n",
    "        create_chat_message(\"user\", user_query)\n",
    "    ]\n",
    "    \n",
    "    # Step 2: Send request with tools\n",
    "    request_data = {\n",
    "        \"model\": MODEL,\n",
    "        \"messages\": [msg.model_dump(exclude_none=True) for msg in messages],\n",
    "        \"tools\": tools,\n",
    "        \"tool_choice\": \"auto\",  # Let the model decide when to use tools\n",
    "        \"temperature\": 0.1  # Low temperature for consistent math\n",
    "    }\n",
    "    \n",
    "    if show_details:\n",
    "        print(f\"\\n📤 Sending query: {user_query}\")\n",
    "    \n",
    "    response = requests.post(\n",
    "        CHAT_ENDPOINT,\n",
    "        json=request_data,\n",
    "        timeout=30\n",
    "    )\n",
    "    response.raise_for_status()\n",
    "    \n",
    "    # Step 3: Parse initial response\n",
    "    completion = ChatCompletion.model_validate(response.json())\n",
    "    assistant_message = completion.choices[0].message\n",
    "    \n",
    "    # Step 4: Check if the model wants to use a tool\n",
    "    if assistant_message.tool_calls:\n",
    "        if show_details:\n",
    "            print(\"\\n🔧 Model requested tool use:\")\n",
    "        \n",
    "        # Add assistant's message to conversation\n",
    "        messages.append(assistant_message)\n",
    "        \n",
    "        # Process each tool call\n",
    "        for tool_call in assistant_message.tool_calls:\n",
    "            function_name = tool_call.function.name\n",
    "            function_args = json.loads(tool_call.function.arguments)\n",
    "            \n",
    "            if show_details:\n",
    "                print(f\"  • Function: {function_name}\")\n",
    "                print(f\"  • Arguments: {function_args}\")\n",
    "            \n",
    "            # Execute the tool\n",
    "            tool_result = execute_tool_call(function_name, function_args)\n",
    "            \n",
    "            if show_details:\n",
    "                print(f\"  • Result: {tool_result}\")\n",
    "            \n",
    "            # Add tool result to conversation\n",
    "            tool_message = create_chat_message(\n",
    "                \"tool\",\n",
    "                tool_result\n",
    "            )\n",
    "            tool_message.tool_call_id = tool_call.id\n",
    "            messages.append(tool_message)\n",
    "        \n",
    "        # Step 5: Get final response from model\n",
    "        final_request = {\n",
    "            \"model\": MODEL,\n",
    "            \"messages\": [msg.model_dump(exclude_none=True) for msg in messages],\n",
    "            \"temperature\": 0.7\n",
    "        }\n",
    "        \n",
    "        final_response = requests.post(\n",
    "            CHAT_ENDPOINT,\n",
    "            json=final_request,\n",
    "            timeout=30\n",
    "        )\n",
    "        final_response.raise_for_status()\n",
    "        \n",
    "        final_completion = ChatCompletion.model_validate(final_response.json())\n",
    "        return final_completion.choices[0].message.content\n",
    "    \n",
    "    else:\n",
    "        # Model didn't use tools, return direct response\n",
    "        if show_details:\n",
    "            print(\"\\n💬 Model responded without using tools\")\n",
    "        return assistant_message.content\n",
    "\n",
    "print(\"✅ Helper functions defined\")"
   ]
  },
  {
   "cell_type": "markdown",
   "metadata": {},
   "source": [
    "## 5. Example 1: Simple Addition\n",
    "\n",
    "Let's start with a simple calculation request."
   ]
  },
  {
   "cell_type": "code",
   "execution_count": 8,
   "metadata": {},
   "outputs": [
    {
     "name": "stdout",
     "output_type": "stream",
     "text": [
      "\n",
      "📤 Sending query: What is 42 plus 17?\n",
      "\n",
      "🔧 Model requested tool use:\n",
      "  • Function: math_calculator\n",
      "  • Arguments: {'arg1': 42, 'arg2': 17, 'operation': 'add'}\n",
      "  • Result: {\"success\": true, \"expression\": \"42 + 17\", \"result\": 59}\n",
      "\n",
      "🤖 Model's Final Response:\n",
      "----------------------------------------\n",
      "The result of 42 plus 17 is **59**.\n"
     ]
    }
   ],
   "source": [
    "# Simple addition example\n",
    "query = \"What is 42 plus 17?\"\n",
    "result = chat_with_tools(query)\n",
    "\n",
    "print(\"\\n🤖 Model's Final Response:\")\n",
    "print(\"-\" * 40)\n",
    "print(result)"
   ]
  },
  {
   "cell_type": "markdown",
   "metadata": {},
   "source": [
    "## 6. Example 2: Division\n",
    "\n",
    "Test division operation with decimal results."
   ]
  },
  {
   "cell_type": "code",
   "execution_count": 9,
   "metadata": {},
   "outputs": [
    {
     "name": "stdout",
     "output_type": "stream",
     "text": [
      "\n",
      "📤 Sending query: Can you divide 100 by 7 for me?\n",
      "\n",
      "🔧 Model requested tool use:\n",
      "  • Function: math_calculator\n",
      "  • Arguments: {'arg1': 100, 'arg2': 7, 'operation': 'divide'}\n",
      "  • Result: {\"success\": true, \"expression\": \"100 \\u00f7 7\", \"result\": 14.285714285714286}\n",
      "\n",
      "🤖 Model's Final Response:\n",
      "----------------------------------------\n",
      "The result of dividing 100 by 7 is approximately 14.285714285714286.\n"
     ]
    }
   ],
   "source": [
    "# Division example\n",
    "query = \"Can you divide 100 by 7 for me?\"\n",
    "result = chat_with_tools(query)\n",
    "\n",
    "print(\"\\n🤖 Model's Final Response:\")\n",
    "print(\"-\" * 40)\n",
    "print(result)"
   ]
  },
  {
   "cell_type": "markdown",
   "metadata": {},
   "source": [
    "## 7. Example 3: Multiple Calculations\n",
    "\n",
    "Test with a query that might require multiple calculations."
   ]
  },
  {
   "cell_type": "code",
   "execution_count": 10,
   "metadata": {},
   "outputs": [
    {
     "name": "stdout",
     "output_type": "stream",
     "text": [
      "\n",
      "📤 Sending query: I have 150 apples. I give away 37 apples. How many do I have left?\n",
      "\n",
      "🔧 Model requested tool use:\n",
      "  • Function: math_calculator\n",
      "  • Arguments: {'arg1': 150, 'arg2': 37, 'operation': 'subtract'}\n",
      "  • Result: {\"success\": true, \"expression\": \"150 - 37\", \"result\": 113}\n",
      "\n",
      "🤖 Model's Final Response:\n",
      "----------------------------------------\n",
      "You started with 150 apples and gave away 37. You have 113 apples left.\n"
     ]
    }
   ],
   "source": [
    "# Complex query\n",
    "query = \"I have 150 apples. I give away 37 apples. How many do I have left?\"\n",
    "result = chat_with_tools(query)\n",
    "\n",
    "print(\"\\n🤖 Model's Final Response:\")\n",
    "print(\"-\" * 40)\n",
    "print(result)"
   ]
  },
  {
   "cell_type": "markdown",
   "metadata": {},
   "source": [
    "## 8. Example 4: Error Handling\n",
    "\n",
    "Test division by zero to see error handling."
   ]
  },
  {
   "cell_type": "code",
   "execution_count": 11,
   "metadata": {},
   "outputs": [
    {
     "name": "stdout",
     "output_type": "stream",
     "text": [
      "\n",
      "📤 Sending query: What is 10 divided by 0?\n",
      "\n",
      "💬 Model responded without using tools\n",
      "\n",
      "🤖 Model's Final Response:\n",
      "----------------------------------------\n",
      "The result of dividing any number by zero is undefined in mathematics. This is because there is no finite number that can be multiplied by zero to produce a non-zero number. Therefore, the expression \\( \\frac{10}{0} \\) does not have a defined value.\n"
     ]
    }
   ],
   "source": [
    "# Division by zero\n",
    "query = \"What is 10 divided by 0?\"\n",
    "result = chat_with_tools(query)\n",
    "\n",
    "print(\"\\n🤖 Model's Final Response:\")\n",
    "print(\"-\" * 40)\n",
    "print(result)"
   ]
  },
  {
   "cell_type": "markdown",
   "metadata": {},
   "source": [
    "## 9. Batch Processing Examples\n",
    "\n",
    "Process multiple calculations to see patterns."
   ]
  },
  {
   "cell_type": "code",
   "execution_count": 12,
   "metadata": {},
   "outputs": [
    {
     "name": "stdout",
     "output_type": "stream",
     "text": [
      "🔄 Running batch calculations:\n",
      "\n",
      "Question: What is 25 times 4?\n",
      "Answer: The result of multiplying 25 by 4 is 100.\n",
      "\n",
      "--------------------------------------------------\n",
      "\n",
      "Question: Calculate 1000 minus 567\n",
      "Answer: The result of 1000 minus 567 is 433.\n",
      "\n",
      "--------------------------------------------------\n",
      "\n",
      "Question: What's the result of 12.5 multiplied by 8?\n",
      "Answer: The result of 12.5 multiplied by 8 is 100.\n",
      "\n",
      "--------------------------------------------------\n",
      "\n",
      "Question: Divide 144 by 12\n",
      "Answer: The result of dividing 144 by 12 is 12.\n",
      "\n",
      "--------------------------------------------------\n",
      "\n"
     ]
    }
   ],
   "source": [
    "# Multiple test cases\n",
    "test_queries = [\n",
    "    \"What is 25 times 4?\",\n",
    "    \"Calculate 1000 minus 567\",\n",
    "    \"What's the result of 12.5 multiplied by 8?\",\n",
    "    \"Divide 144 by 12\"\n",
    "]\n",
    "\n",
    "print(\"🔄 Running batch calculations:\\n\")\n",
    "\n",
    "for query in test_queries:\n",
    "    print(f\"Question: {query}\")\n",
    "    result = chat_with_tools(query, show_details=False)\n",
    "    print(f\"Answer: {result}\\n\")\n",
    "    print(\"-\" * 50 + \"\\n\")"
   ]
  },
  {
   "cell_type": "markdown",
   "metadata": {},
   "source": [
    "## 10. Testing Without Tool Support\n",
    "\n",
    "See what happens when we ask a math question without providing tools."
   ]
  },
  {
   "cell_type": "code",
   "execution_count": 13,
   "metadata": {},
   "outputs": [
    {
     "name": "stdout",
     "output_type": "stream",
     "text": [
      "🔍 Comparison: With Tools vs Without Tools\n",
      "\n",
      "Query: What is 357 multiplied by 29?\n",
      "\n",
      "WITH TOOLS:\n",
      "Response: The result of 357 multiplied by 29 is 10,353.\n",
      "\n",
      "WITHOUT TOOLS:\n",
      "Response: To calculate \\( 357 \\times 29 \\), we can use the distributive property of multiplication over addition, which allows us to break down the problem into simpler parts.\n",
      "\n",
      "First, let's express 29 as \\( 30 - 1 \\):\n",
      "\n",
      "\\[\n",
      "357 \\times 29 = 357 \\times (30 - 1)\n",
      "\\]\n",
      "\n",
      "Now, distribute the multiplication:\n",
      "\n",
      "\\[\n",
      "357 \\times 30 - 357 \\times 1\n",
      "\\]\n",
      "\n",
      "Calculate each part separately:\n",
      "\n",
      "1. \\( 357 \\times 30 \\):\n",
      "\n",
      "\\[\n",
      "357 \\times 30 = (300 + 50 + 7) \\times 30 = 300 \\times 30 + 50 \\times 30 + 7 \\times 30\n",
      "\\]\n",
      "\\[\n",
      "= 9000 + 1500 + 210 = 10,710\n",
      "\\]\n",
      "\n",
      "2. \\( 357 \\times 1 \\):\n",
      "\n",
      "\\[\n",
      "357 \\times 1 = 357\n",
      "\\]\n",
      "\n",
      "Now, subtract the two results:\n",
      "\n",
      "\\[\n",
      "10,710 - 357 = 10,353\n",
      "\\]\n",
      "\n",
      "So,\n",
      "\n",
      "\\[\n",
      "357 \\times 29 = 10,353\n",
      "\\]\n"
     ]
    }
   ],
   "source": [
    "# Test without tools to see the difference\n",
    "def chat_without_tools(query: str) -> str:\n",
    "    \"\"\"Send a query without tool support for comparison.\"\"\"\n",
    "    messages = [\n",
    "        create_chat_message(\"system\", \"You are a helpful assistant.\"),\n",
    "        create_chat_message(\"user\", query)\n",
    "    ]\n",
    "    \n",
    "    request_data = {\n",
    "        \"model\": MODEL,\n",
    "        \"messages\": [msg.model_dump(exclude_none=True) for msg in messages],\n",
    "        \"temperature\": 0.7\n",
    "    }\n",
    "    \n",
    "    response = requests.post(\n",
    "        CHAT_ENDPOINT,\n",
    "        json=request_data,\n",
    "        timeout=30\n",
    "    )\n",
    "    response.raise_for_status()\n",
    "    \n",
    "    completion = ChatCompletion.model_validate(response.json())\n",
    "    return completion.choices[0].message.content\n",
    "\n",
    "# Compare responses with and without tools\n",
    "query = \"What is 357 multiplied by 29?\"\n",
    "\n",
    "print(\"🔍 Comparison: With Tools vs Without Tools\\n\")\n",
    "print(f\"Query: {query}\\n\")\n",
    "\n",
    "print(\"WITH TOOLS:\")\n",
    "with_tools = chat_with_tools(query, show_details=False)\n",
    "print(f\"Response: {with_tools}\\n\")\n",
    "\n",
    "print(\"WITHOUT TOOLS:\")\n",
    "without_tools = chat_without_tools(query)\n",
    "print(f\"Response: {without_tools}\")"
   ]
  },
  {
   "cell_type": "markdown",
   "metadata": {},
   "source": [
    "## Summary\n",
    "\n",
    "This notebook demonstrated tool/function calling with LM Studio:\n",
    "\n",
    "### What We Learned\n",
    "\n",
    "1. **Tool Definition**: Created a math calculator function with clear parameters\n",
    "2. **Schema Creation**: Defined OpenAI-compatible tool schema\n",
    "3. **Workflow Implementation**: Built complete tool calling workflow\n",
    "4. **Error Handling**: Handled edge cases like division by zero\n",
    "5. **Comparison**: Showed difference between responses with and without tools\n",
    "\n",
    "### Key Takeaways\n",
    "\n",
    "- **Model Dependency**: Function calling works differently across models\n",
    "- **Structured Flow**: Tool calls follow a specific request-execute-respond pattern\n",
    "- **Type Safety**: Pydantic models help validate tool calls and responses\n",
    "- **Error Handling**: Always handle potential errors in tool execution\n",
    "- **Accuracy**: Tools provide precise calculations vs. model approximations\n",
    "\n",
    "### Extending This Example\n",
    "\n",
    "You can create more complex tools:\n",
    "- **Database queries**: Fetch real-time data\n",
    "- **API calls**: Integrate external services\n",
    "- **File operations**: Read/write local files\n",
    "- **System commands**: Execute system operations\n",
    "- **Multi-step workflows**: Chain multiple tools together\n",
    "\n",
    "### Troubleshooting\n",
    "\n",
    "If function calling doesn't work:\n",
    "1. **Check model compatibility**: Not all models support function calling\n",
    "2. **Verify schema**: Ensure tool schema matches OpenAI format\n",
    "3. **Test with OpenAI SDK**: Try using official OpenAI Python client\n",
    "4. **Check LM Studio logs**: Look for error messages in server logs\n",
    "5. **Update LM Studio**: Ensure you have the latest version"
   ]
  }
 ],
 "metadata": {
  "kernelspec": {
   "display_name": "gen-ai",
   "language": "python",
   "name": "python3"
  },
  "language_info": {
   "codemirror_mode": {
    "name": "ipython",
    "version": 3
   },
   "file_extension": ".py",
   "mimetype": "text/x-python",
   "name": "python",
   "nbconvert_exporter": "python",
   "pygments_lexer": "ipython3",
   "version": "3.12.11"
  }
 },
 "nbformat": 4,
 "nbformat_minor": 4
}
